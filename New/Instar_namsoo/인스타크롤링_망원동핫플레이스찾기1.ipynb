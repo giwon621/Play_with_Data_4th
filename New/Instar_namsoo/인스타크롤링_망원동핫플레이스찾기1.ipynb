{
 "cells": [
  {
   "cell_type": "markdown",
   "metadata": {},
   "source": [
    "1. 인스타그램 화면구성 / 망원동 검색결과\n",
    "3. 크롤링 \n",
    "    1. 데이터수집과정\n",
    "    2. 데이터구조\n",
    "        * 아이디,사진, 날짜, 댓글, 글,  태그, 위치 등\n",
    "    3. 위치정보\n",
    "4. 위치정보 정리\n",
    "    1. 위도 경도 필요함\n",
    "    2. 가게이름 ☞ 상호명, 주소  by 네이버지도API\n",
    "    3. 주소☞ 위.경도 데이터 by 네이버API\n",
    "    4. 포괄적 정보 제외 ex 망원동, 서울.....\n",
    "5. 지도 시각화\n",
    "6. 데이터 해석 / Insight"
   ]
  },
  {
   "cell_type": "markdown",
   "metadata": {},
   "source": [
    "# 1. 인스타그램\n",
    "\n",
    "https://www.instagram.com/explore/tags/망원동/\n",
    "\n",
    "- 게시글에 위치정보 포함\n",
    "\n",
    "- 추천 위치 선택 or 직접 입력 가능\n",
    "\n",
    "- 인스타 위치정보 ==> 분석 / 시각화 활용?"
   ]
  },
  {
   "cell_type": "markdown",
   "metadata": {},
   "source": [
    "# 2. 크롤링"
   ]
  },
  {
   "cell_type": "markdown",
   "metadata": {},
   "source": [
    " - 코드(함수별)"
   ]
  },
  {
   "cell_type": "code",
   "execution_count": null,
   "metadata": {},
   "outputs": [],
   "source": [
    "# selenium 불러오기\n",
    "from selenium import webdriver\n",
    "import re\n",
    "from bs4 import BeautifulSoup\n",
    "import json\n",
    "import time"
   ]
  },
  {
   "cell_type": "code",
   "execution_count": null,
   "metadata": {},
   "outputs": [],
   "source": [
    "# webdriver 열어주기\n",
    "# webdriver.Chrome('파일경로')\n",
    "def open_browser():\n",
    "    browser = webdriver.Chrome('C:/informs/chromedriver')\n",
    "    return browser"
   ]
  },
  {
   "cell_type": "code",
   "execution_count": null,
   "metadata": {},
   "outputs": [],
   "source": [
    "def insta_searching(browser):\n",
    "    word = input('인스타 검색어를 입력해주세요? ')\n",
    "    url = 'https://www.instagram.com/explore/tags/{}'.format(word)\n",
    "    browser.get(url)"
   ]
  },
  {
   "cell_type": "code",
   "execution_count": null,
   "metadata": {},
   "outputs": [],
   "source": [
    "# 첫번째 검색결과 클릭\n",
    "def select_first(browser):\n",
    "    browser.find_element_by_xpath('//*[@id=\"react-root\"]/section/main/article/div[1]/div/div/div[1]/div[1]/a/div/div[2]').click()\n"
   ]
  },
  {
   "cell_type": "code",
   "execution_count": null,
   "metadata": {},
   "outputs": [],
   "source": [
    "def get_author(browser):\n",
    "    author = browser.find_element_by_css_selector('div.C4VMK > h2 > a').text\n",
    "    return author"
   ]
  },
  {
   "cell_type": "code",
   "execution_count": null,
   "metadata": {},
   "outputs": [],
   "source": [
    "# 본문 전체 가져오기\n",
    "def get_content(browser):\n",
    "    content = browser.find_element_by_css_selector('div.C4VMK').text\n",
    "    author = get_author(browser)\n",
    "    content = content[len(author):]\n",
    "#     body > div:nth-child(13) > div > div._o0j5z > div > article > div._ebcx9 > div._4a48i._277v9 > ul._b0tqa > li._ezgzd\n",
    "#     print(content)\n",
    "    return content\n"
   ]
  },
  {
   "cell_type": "code",
   "execution_count": null,
   "metadata": {},
   "outputs": [],
   "source": [
    "# 본문의 태그를 리스트 형태로 저장해줌(정규식 사용)\n",
    "# 정규식 사용 관련 참고: http://www.nextree.co.kr/p4327/\n",
    "# 정규식표현기 : https://regex101.com/#python\n",
    "# 정규식 파이썬 메뉴얼 : https://docs.python.org/2/library/re.html\n",
    "def get_tags(browser):\n",
    "    content = get_content(browser)\n",
    "    tags = re.findall(r'#[^\\s#,\\\\]+', content)  #태그만 걸러줌\n",
    "    # tags = re.findall(r'#[\\S][^#\\\\]+', content)\n",
    "    # tags = re.findall(r'#[^#\\s\\',\\(\\)!\\.~\\-/&\\+\\*$]+', content)\n",
    "    return tags"
   ]
  },
  {
   "cell_type": "code",
   "execution_count": null,
   "metadata": {},
   "outputs": [],
   "source": [
    "def get_location(browser):\n",
    "    try:\n",
    "        location = browser.find_element_by_css_selector('a.O4GlU').text\n",
    "    except:\n",
    "        return None\n",
    "    return location"
   ]
  },
  {
   "cell_type": "code",
   "execution_count": null,
   "metadata": {},
   "outputs": [],
   "source": [
    "# 다음 게시글로 이동\n",
    "def move_to_next(browser):\n",
    "    move_next = browser.find_element_by_css_selector('a.HBoOv.coreSpriteRightPaginationArrow')\n",
    "    move_next.click()\n",
    "    browser.implicitly_wait(3)\n",
    "    time.sleep(1)"
   ]
  },
  {
   "cell_type": "code",
   "execution_count": null,
   "metadata": {},
   "outputs": [],
   "source": [
    "def get_datetime(browser):\n",
    "    datetime = browser.find_element_by_css_selector('time._1o9PC.Nzb55').get_attribute('datetime')\n",
    "    datetime = datetime[:10]\n",
    "    return datetime\n",
    "    #2018-10-19T15:00:20.000Z 형태"
   ]
  },
  {
   "cell_type": "code",
   "execution_count": null,
   "metadata": {},
   "outputs": [],
   "source": [
    "def get_img_link(browser):\n",
    "    img_link = browser.find_element_by_css_selector('div.eLAPa.kPFhm > div.KL4Bh > img.FFVAD').get_attribute('src')\n",
    "    return img_link"
   ]
  },
  {
   "cell_type": "code",
   "execution_count": null,
   "metadata": {},
   "outputs": [],
   "source": [
    "# 하나의 글에서  본문내용/태그/댓글 모두 가져오기(dictionary 형태)\n",
    "def get_total_dict(browser):\n",
    "    datas = {}\n",
    "    datas['author'] = get_author(browser)\n",
    "    datas['content'] = get_content(browser)\n",
    "    datas['tags'] = get_tags(browser)\n",
    "    datas['location'] = get_location(browser)\n",
    "    datas['datetime'] = get_datetime(browser)\n",
    "    datas['img'] = get_img_link(browser)\n",
    "#     more_reply(browser)\n",
    "#     datas['reply'] = get_reply(browser)\n",
    "    return datas"
   ]
  },
  {
   "cell_type": "markdown",
   "metadata": {},
   "source": [
    " - 실행 부분"
   ]
  },
  {
   "cell_type": "code",
   "execution_count": null,
   "metadata": {},
   "outputs": [],
   "source": [
    "browser = open_browser()  #크롬 브라우저 실행"
   ]
  },
  {
   "cell_type": "code",
   "execution_count": null,
   "metadata": {},
   "outputs": [],
   "source": [
    "insta_searching(browser)  #인스타 검색: '망원동'"
   ]
  },
  {
   "cell_type": "code",
   "execution_count": null,
   "metadata": {},
   "outputs": [],
   "source": [
    "select_first(browser)  # 첫번째 게시글 클릭"
   ]
  },
  {
   "cell_type": "code",
   "execution_count": null,
   "metadata": {},
   "outputs": [],
   "source": [
    "from tqdm import tqdm_notebook"
   ]
  },
  {
   "cell_type": "code",
   "execution_count": null,
   "metadata": {},
   "outputs": [],
   "source": [
    "#망원동  게시물 694,508 중 15256개 수집\n",
    "#망리단길 게시물 210,659 중 9056\n",
    "# 3일 소요......\n",
    "\n",
    "results={}\n",
    "for i in tqdm_notebook(range(20000)):\n",
    "    try:\n",
    "        results[i] = get_total_dict(browser)\n",
    "    except:\n",
    "        pass\n",
    "    move_to_next(browser)"
   ]
  },
  {
   "cell_type": "markdown",
   "metadata": {},
   "source": [
    " - 수집데이터 정리하기"
   ]
  },
  {
   "cell_type": "code",
   "execution_count": 4,
   "metadata": {},
   "outputs": [],
   "source": [
    "import json\n",
    "import pandas as pd"
   ]
  },
  {
   "cell_type": "code",
   "execution_count": null,
   "metadata": {},
   "outputs": [],
   "source": [
    "# pandas --> csv 로 저장하기\n",
    "datas = pd.DataFrame(results)\n",
    "datas = datas.T\n",
    "datas.head()\n",
    "datas.to_excel('망원동_total.xlsx', encoding='utf-8', index=False)"
   ]
  },
  {
   "cell_type": "code",
   "execution_count": 5,
   "metadata": {},
   "outputs": [],
   "source": [
    "datas = pd.read_excel('망원동_total.xlsx', encoding='utf-8', index_col=0)"
   ]
  },
  {
   "cell_type": "code",
   "execution_count": 6,
   "metadata": {
    "scrolled": true
   },
   "outputs": [
    {
     "data": {
      "text/html": [
       "<div>\n",
       "<style scoped>\n",
       "    .dataframe tbody tr th:only-of-type {\n",
       "        vertical-align: middle;\n",
       "    }\n",
       "\n",
       "    .dataframe tbody tr th {\n",
       "        vertical-align: top;\n",
       "    }\n",
       "\n",
       "    .dataframe thead th {\n",
       "        text-align: right;\n",
       "    }\n",
       "</style>\n",
       "<table border=\"1\" class=\"dataframe\">\n",
       "  <thead>\n",
       "    <tr style=\"text-align: right;\">\n",
       "      <th></th>\n",
       "      <th>author</th>\n",
       "      <th>content</th>\n",
       "      <th>datetime</th>\n",
       "      <th>img</th>\n",
       "      <th>location</th>\n",
       "      <th>tags</th>\n",
       "    </tr>\n",
       "    <tr>\n",
       "      <th>index</th>\n",
       "      <th></th>\n",
       "      <th></th>\n",
       "      <th></th>\n",
       "      <th></th>\n",
       "      <th></th>\n",
       "      <th></th>\n",
       "    </tr>\n",
       "  </thead>\n",
       "  <tbody>\n",
       "    <tr>\n",
       "      <th>0</th>\n",
       "      <td>sunhye1012</td>\n",
       "      <td>#올인원파스타\\r\\r\\n요즘 망원동이 핫하다던데 울신랑님 아는동생도 이쪽에 파스타집...</td>\n",
       "      <td>2018-09-18</td>\n",
       "      <td>https://scontent-icn1-1.cdninstagram.com/vp/c0...</td>\n",
       "      <td>망원동맛집</td>\n",
       "      <td>['#올인원파스타', '#망원동맛집', '#망리단길', '#망원동파스타', '#파스...</td>\n",
       "    </tr>\n",
       "    <tr>\n",
       "      <th>1</th>\n",
       "      <td>arang2o_o</td>\n",
       "      <td>에휴.. 안줄거 다 안다 😔😥💧</td>\n",
       "      <td>2018-10-19</td>\n",
       "      <td>https://scontent-icn1-1.cdninstagram.com/vp/56...</td>\n",
       "      <td>훌라훌라 Hulahula</td>\n",
       "      <td>[]</td>\n",
       "    </tr>\n",
       "    <tr>\n",
       "      <th>2</th>\n",
       "      <td>bbangsuni434</td>\n",
       "      <td>#망원동#소금집#소금집델리 #파스트라미샌드위치#잠봉뵈르#이탈리안히어로\\r\\r\\n(사...</td>\n",
       "      <td>2018-09-18</td>\n",
       "      <td>https://scontent-icn1-1.cdninstagram.com/vp/64...</td>\n",
       "      <td>NaN</td>\n",
       "      <td>['#망원동', '#소금집', '#소금집델리', '#파스트라미샌드위치', '#잠봉뵈...</td>\n",
       "    </tr>\n",
       "    <tr>\n",
       "      <th>3</th>\n",
       "      <td>luv__jane_</td>\n",
       "      <td>.\\r\\r\\n#망원동 .\\r\\r\\n.\\r\\r\\n퇴사한 언니랑 휴직중 지나:) 이쁜지...</td>\n",
       "      <td>2018-09-18</td>\n",
       "      <td>https://scontent-icn1-1.cdninstagram.com/vp/30...</td>\n",
       "      <td>Cafe Miei</td>\n",
       "      <td>['#망원동', '#망원동', '#망리단길', '#카페미아이', '#miei', '...</td>\n",
       "    </tr>\n",
       "    <tr>\n",
       "      <th>4</th>\n",
       "      <td>c.blueprint</td>\n",
       "      <td>무료로 스냅사진을 찍어드리는\\r\\r\\n망원동 망리단길 카페 '청사진'\\r\\r\\n'C...</td>\n",
       "      <td>2018-09-18</td>\n",
       "      <td>https://scontent-icn1-1.cdninstagram.com/vp/35...</td>\n",
       "      <td>카페청사진</td>\n",
       "      <td>[]</td>\n",
       "    </tr>\n",
       "  </tbody>\n",
       "</table>\n",
       "</div>"
      ],
      "text/plain": [
       "             author                                            content  \\\n",
       "index                                                                    \n",
       "0        sunhye1012  #올인원파스타\\r\\r\\n요즘 망원동이 핫하다던데 울신랑님 아는동생도 이쪽에 파스타집...   \n",
       "1         arang2o_o                                  에휴.. 안줄거 다 안다 😔😥💧   \n",
       "2      bbangsuni434  #망원동#소금집#소금집델리 #파스트라미샌드위치#잠봉뵈르#이탈리안히어로\\r\\r\\n(사...   \n",
       "3        luv__jane_  .\\r\\r\\n#망원동 .\\r\\r\\n.\\r\\r\\n퇴사한 언니랑 휴직중 지나:) 이쁜지...   \n",
       "4       c.blueprint  무료로 스냅사진을 찍어드리는\\r\\r\\n망원동 망리단길 카페 '청사진'\\r\\r\\n'C...   \n",
       "\n",
       "         datetime                                                img  \\\n",
       "index                                                                  \n",
       "0      2018-09-18  https://scontent-icn1-1.cdninstagram.com/vp/c0...   \n",
       "1      2018-10-19  https://scontent-icn1-1.cdninstagram.com/vp/56...   \n",
       "2      2018-09-18  https://scontent-icn1-1.cdninstagram.com/vp/64...   \n",
       "3      2018-09-18  https://scontent-icn1-1.cdninstagram.com/vp/30...   \n",
       "4      2018-09-18  https://scontent-icn1-1.cdninstagram.com/vp/35...   \n",
       "\n",
       "            location                                               tags  \n",
       "index                                                                    \n",
       "0              망원동맛집  ['#올인원파스타', '#망원동맛집', '#망리단길', '#망원동파스타', '#파스...  \n",
       "1      훌라훌라 Hulahula                                                 []  \n",
       "2                NaN  ['#망원동', '#소금집', '#소금집델리', '#파스트라미샌드위치', '#잠봉뵈...  \n",
       "3          Cafe Miei  ['#망원동', '#망원동', '#망리단길', '#카페미아이', '#miei', '...  \n",
       "4              카페청사진                                                 []  "
      ]
     },
     "execution_count": 6,
     "metadata": {},
     "output_type": "execute_result"
    }
   ],
   "source": [
    "datas.head()"
   ]
  },
  {
   "cell_type": "code",
   "execution_count": 7,
   "metadata": {
    "scrolled": false
   },
   "outputs": [
    {
     "name": "stdout",
     "output_type": "stream",
     "text": [
      "<class 'pandas.core.frame.DataFrame'>\n",
      "Int64Index: 19652 entries, 0 to 22882\n",
      "Data columns (total 6 columns):\n",
      "author      19652 non-null object\n",
      "content     19651 non-null object\n",
      "datetime    19652 non-null object\n",
      "img         17670 non-null object\n",
      "location    9364 non-null object\n",
      "tags        19652 non-null object\n",
      "dtypes: object(6)\n",
      "memory usage: 1.0+ MB\n"
     ]
    }
   ],
   "source": [
    "datas.info()"
   ]
  },
  {
   "cell_type": "code",
   "execution_count": 8,
   "metadata": {},
   "outputs": [
    {
     "data": {
      "text/plain": [
       "0.47649094239772033"
      ]
     },
     "execution_count": 8,
     "metadata": {},
     "output_type": "execute_result"
    }
   ],
   "source": [
    "# location 위치 입력 비율  : 48%\n",
    "len(datas[datas.location.notnull()]) / len(datas)"
   ]
  }
 ],
 "metadata": {
  "kernelspec": {
   "display_name": "Python 3",
   "language": "python",
   "name": "python3"
  },
  "language_info": {
   "codemirror_mode": {
    "name": "ipython",
    "version": 3
   },
   "file_extension": ".py",
   "mimetype": "text/x-python",
   "name": "python",
   "nbconvert_exporter": "python",
   "pygments_lexer": "ipython3",
   "version": "3.6.4"
  }
 },
 "nbformat": 4,
 "nbformat_minor": 2
}
