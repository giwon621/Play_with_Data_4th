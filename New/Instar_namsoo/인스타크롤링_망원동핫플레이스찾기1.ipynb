{
 "cells": [
  {
   "cell_type": "markdown",
   "metadata": {},
   "source": [
    "1. 인스타그램 화면구성 / 망원동 검색결과\n",
    "3. 크롤링 \n",
    "    1. 데이터수집과정\n",
    "    2. 데이터구조\n",
    "        * 아이디,사진, 날짜, 댓글, 글,  태그, 위치 등\n",
    "    3. 위치정보\n",
    "4. 위치정보 정리\n",
    "    1. 위도 경도 필요함\n",
    "    2. 가게이름 ☞ 상호명, 주소  by 네이버지도API\n",
    "    3. 주소☞ 위.경도 데이터 by 네이버API\n",
    "    4. 포괄적 정보 제외 ex 망원동, 서울.....\n",
    "5. 지도 시각화\n",
    "6. 데이터 해석 / Insight"
   ]
  },
  {
   "cell_type": "markdown",
   "metadata": {},
   "source": [
    "# 1. 인스타그램\n",
    "\n",
    "https://www.instagram.com/explore/tags/망원동/\n",
    "\n",
    "- 게시글에 위치정보 포함\n",
    "\n",
    "- 추천 위치 선택 or 직접 입력 가능\n",
    "\n",
    "- 인스타 위치정보 ==> 분석 / 시각화 활용?"
   ]
  },
  {
   "cell_type": "markdown",
   "metadata": {},
   "source": [
    "# 2. 크롤링"
   ]
  },
  {
   "cell_type": "markdown",
   "metadata": {},
   "source": [
    " - 코드(함수별)"
   ]
  },
  {
   "cell_type": "code",
   "execution_count": 1,
   "metadata": {},
   "outputs": [],
   "source": [
    "# selenium 불러오기\n",
    "from selenium import webdriver\n",
    "import re\n",
    "from bs4 import BeautifulSoup\n",
    "import json\n",
    "import time"
   ]
  },
  {
   "cell_type": "code",
   "execution_count": 2,
   "metadata": {},
   "outputs": [],
   "source": [
    "# webdriver 열어주기\n",
    "# webdriver.Chrome('파일경로')\n",
    "def open_browser():\n",
    "    browser = webdriver.Chrome('C:/informs/chromedriver')\n",
    "    return browser"
   ]
  },
  {
   "cell_type": "code",
   "execution_count": 3,
   "metadata": {},
   "outputs": [],
   "source": [
    "def insta_searching(browser):\n",
    "    word = input('인스타 검색어를 입력해주세요? ')\n",
    "    url = 'https://www.instagram.com/explore/tags/{}'.format(word)\n",
    "    browser.get(url)"
   ]
  },
  {
   "cell_type": "code",
   "execution_count": 4,
   "metadata": {},
   "outputs": [],
   "source": [
    "# 첫번째 검색결과 클릭\n",
    "def select_first(browser):\n",
    "    browser.find_element_by_xpath('//*[@id=\"react-root\"]/section/main/article/div[1]/div/div/div[1]/div[1]/a/div/div[2]').click()\n"
   ]
  },
  {
   "cell_type": "code",
   "execution_count": 5,
   "metadata": {},
   "outputs": [],
   "source": [
    "def get_author(browser):\n",
    "    author = browser.find_element_by_css_selector('div.C4VMK > h2 > a').text\n",
    "    return author"
   ]
  },
  {
   "cell_type": "code",
   "execution_count": 6,
   "metadata": {},
   "outputs": [],
   "source": [
    "# 본문 전체 가져오기\n",
    "def get_content(browser):\n",
    "    content = browser.find_element_by_css_selector('div.C4VMK').text\n",
    "    author = get_author(browser)\n",
    "    content = content[len(author):]\n",
    "#     body > div:nth-child(13) > div > div._o0j5z > div > article > div._ebcx9 > div._4a48i._277v9 > ul._b0tqa > li._ezgzd\n",
    "#     print(content)\n",
    "    return content\n"
   ]
  },
  {
   "cell_type": "code",
   "execution_count": 7,
   "metadata": {},
   "outputs": [],
   "source": [
    "# 본문의 태그를 리스트 형태로 저장해줌(정규식 사용)\n",
    "# 정규식 사용 관련 참고: http://www.nextree.co.kr/p4327/\n",
    "# 정규식표현기 : https://regex101.com/#python\n",
    "# 정규식 파이썬 메뉴얼 : https://docs.python.org/2/library/re.html\n",
    "def get_tags(browser):\n",
    "    content = get_content(browser)\n",
    "    tags = re.findall(r'#[^\\s#,\\\\]+', content)  #태그만 걸러줌\n",
    "    # tags = re.findall(r'#[\\S][^#\\\\]+', content)\n",
    "    # tags = re.findall(r'#[^#\\s\\',\\(\\)!\\.~\\-/&\\+\\*$]+', content)\n",
    "    return tags"
   ]
  },
  {
   "cell_type": "code",
   "execution_count": 8,
   "metadata": {},
   "outputs": [],
   "source": [
    "def get_location(browser):\n",
    "    try:\n",
    "        location = browser.find_element_by_css_selector('a.O4GlU').text\n",
    "    except:\n",
    "        return None\n",
    "    return location"
   ]
  },
  {
   "cell_type": "code",
   "execution_count": 9,
   "metadata": {},
   "outputs": [],
   "source": [
    "# 다음 게시글로 이동\n",
    "def move_to_next(browser):\n",
    "    move_next = browser.find_element_by_css_selector('a.HBoOv.coreSpriteRightPaginationArrow')\n",
    "    move_next.click()\n",
    "    browser.implicitly_wait(3)\n",
    "    time.sleep(1)"
   ]
  },
  {
   "cell_type": "code",
   "execution_count": 10,
   "metadata": {},
   "outputs": [],
   "source": [
    "def get_datetime(browser):\n",
    "    datetime = browser.find_element_by_css_selector('time._1o9PC.Nzb55').get_attribute('datetime')\n",
    "    datetime = datetime[:10]\n",
    "    return datetime\n",
    "    #2018-10-19T15:00:20.000Z 형태"
   ]
  },
  {
   "cell_type": "code",
   "execution_count": 11,
   "metadata": {},
   "outputs": [],
   "source": [
    "def get_img_link(browser):\n",
    "    img_link = browser.find_element_by_css_selector('div.eLAPa.kPFhm > div.KL4Bh > img.FFVAD').get_attribute('src')\n",
    "    return img_link"
   ]
  },
  {
   "cell_type": "code",
   "execution_count": 12,
   "metadata": {},
   "outputs": [],
   "source": [
    "# 하나의 글에서  본문내용/태그/댓글 모두 가져오기(dictionary 형태)\n",
    "def get_total_dict(browser):\n",
    "    datas = {}\n",
    "    datas['author'] = get_author(browser)\n",
    "    datas['content'] = get_content(browser)\n",
    "    datas['tags'] = get_tags(browser)\n",
    "    datas['location'] = get_location(browser)\n",
    "    datas['datetime'] = get_datetime(browser)\n",
    "    datas['img'] = get_img_link(browser)\n",
    "#     more_reply(browser)\n",
    "#     datas['reply'] = get_reply(browser)\n",
    "    return datas"
   ]
  },
  {
   "cell_type": "markdown",
   "metadata": {},
   "source": [
    " - 실행 부분"
   ]
  },
  {
   "cell_type": "code",
   "execution_count": 13,
   "metadata": {},
   "outputs": [],
   "source": [
    "browser = open_browser()  #크롬 브라우저 실행"
   ]
  },
  {
   "cell_type": "code",
   "execution_count": 14,
   "metadata": {},
   "outputs": [
    {
     "name": "stdout",
     "output_type": "stream",
     "text": [
      "인스타 검색어를 입력해주세요? 망원동\n"
     ]
    }
   ],
   "source": [
    "insta_searching(browser)  #인스타 검색: '망원동'"
   ]
  },
  {
   "cell_type": "code",
   "execution_count": 15,
   "metadata": {},
   "outputs": [],
   "source": [
    "select_first(browser)  # 첫번째 게시글 클릭"
   ]
  },
  {
   "cell_type": "code",
   "execution_count": 16,
   "metadata": {},
   "outputs": [],
   "source": [
    "from tqdm import tqdm_notebook"
   ]
  },
  {
   "cell_type": "code",
   "execution_count": 17,
   "metadata": {},
   "outputs": [
    {
     "data": {
      "application/vnd.jupyter.widget-view+json": {
       "model_id": "52157583b2a04d76b22fa357b5494f04",
       "version_major": 2,
       "version_minor": 0
      },
      "text/html": [
       "<p>Failed to display Jupyter Widget of type <code>HBox</code>.</p>\n",
       "<p>\n",
       "  If you're reading this message in the Jupyter Notebook or JupyterLab Notebook, it may mean\n",
       "  that the widgets JavaScript is still loading. If this message persists, it\n",
       "  likely means that the widgets JavaScript library is either not installed or\n",
       "  not enabled. See the <a href=\"https://ipywidgets.readthedocs.io/en/stable/user_install.html\">Jupyter\n",
       "  Widgets Documentation</a> for setup instructions.\n",
       "</p>\n",
       "<p>\n",
       "  If you're reading this message in another frontend (for example, a static\n",
       "  rendering on GitHub or <a href=\"https://nbviewer.jupyter.org/\">NBViewer</a>),\n",
       "  it may mean that your frontend doesn't currently support widgets.\n",
       "</p>\n"
      ],
      "text/plain": [
       "HBox(children=(IntProgress(value=0, max=10), HTML(value='')))"
      ]
     },
     "metadata": {},
     "output_type": "display_data"
    },
    {
     "name": "stdout",
     "output_type": "stream",
     "text": [
      "{'author': 'gwaenseure', 'content': '주문 거기서 할까요?\\n#오늘자귀여움 #핵귀', 'tags': ['#오늘자귀여움', '#핵귀'], 'location': '망원동 막걸리집 복덕방', 'datetime': '2018-10-31', 'img': 'https://scontent-icn1-1.cdninstagram.com/vp/9f7db681a3ab529d6aeeba826befa545/5C6E2838/t51.2885-15/e35/44351075_1908938429402270_2608321571550766708_n.jpg'}\n",
      "{'author': 'ddo.o', 'content': '세월이 가면~~가슴이 터질 듯한~~', 'tags': [], 'location': 'Indeed coffee', 'datetime': '2018-10-31', 'img': 'https://scontent-icn1-1.cdninstagram.com/vp/30968058eac3cdc72ed200247c0deb69/5C892571/t51.2885-15/e35/43423306_416050148932881_373411589626651914_n.jpg'}\n",
      "{'author': 'changbi_insta', 'content': '#까페창비 #방문인증샷이벤트 ⠀⠀⠀⠀⠀⠀⠀⠀⠀⠀⠀⠀⠀⠀⠀⠀\\n까페창비 리뉴얼 오픈 기념 특별 이벤트🎀\\n⠀⠀⠀⠀⠀⠀⠀⠀⠀⠀⠀⠀⠀⠀⠀⠀\\n📌 참여 방법\\n✔️ @cafe_changbi 팔로우\\n✔️ 까페창비(망원동내커피 창비점) 방문 후 매장 인증샷 찍기📷\\n✔️ #까페창비 #망원동내커피 #까페창비리뉴얼 해시태그와 함께 본인의 인스타그램 계정에 업로드\\n⠀⠀⠀⠀⠀⠀⠀⠀⠀⠀⠀⠀⠀⠀⠀⠀\\n참여하신 분들 중 추첨을 통해 창비 도서와 까페창비에서 사용하실 수 있는 망원동내커피 음료 쿠폰으로 구성된 선물을 드립니다. 😍✨\\n⠀⠀⠀⠀⠀⠀⠀⠀⠀⠀⠀⠀⠀⠀⠀⠀\\n- 1명 : 창비 도서 5권 + 음료 쿠폰 10장\\n- 3명 : 창비 도서 3권 + 음료 쿠폰 5장\\n- 10명 : 창비 도서 1권 + 음료 쿠폰 3장\\n⠀⠀⠀⠀⠀⠀⠀⠀⠀⠀⠀⠀⠀⠀⠀⠀\\n📌 기간 : 11/30까지\\n📌 당첨자 발표 : 12/1 예정\\n⠀⠀⠀⠀⠀⠀⠀⠀⠀⠀⠀⠀⠀⠀⠀⠀\\n#이벤트 #북카페 #창비 #망원동', 'tags': ['#까페창비', '#방문인증샷이벤트', '#까페창비', '#망원동내커피', '#까페창비리뉴얼', '#이벤트', '#북카페', '#창비', '#망원동'], 'location': None, 'datetime': '2018-10-30', 'img': 'https://scontent-icn1-1.cdninstagram.com/vp/a8f3258481a5e928abb1485188fed68b/5C63EFA7/t51.2885-15/e35/43613988_340508323424287_740949691162190159_n.jpg'}\n",
      "{'author': 'hazzino1', 'content': '참프루 시체전에 다녀왔다.\\n망원동 참프루를 청파동의 전시공간에 그대로 재현하여 마련된 빈소. 마치 망원동에 있는 듯 착각하게 되는 완벽한 재현과 진심으로 가는길을 기리는 조문객들의 참여로 최종 완성된 훌륭한 전시였다. 참프루에서 화장실을 가려면 반드시 지나쳐야했지만 금단의 공간이었던 벙커침대의 설치는 마치 트레이시 에민을 방불케 했다. 당시 동네 개신교인의 항의로 켤 수없었던 연등도 예쁘게 빛나고 있었다. 그리고 나는 유품 한 점을 컬렉팅.참 아리따운 위스키잔이로구나.\\n명복을 빕니다. 다음 생애는 건물주로 태어나시길🙇\\u200d♀️ #RIP #참프루시체전 #망원동 #참프루', 'tags': ['#RIP', '#참프루시체전', '#망원동', '#참프루'], 'location': '지나간세계', 'datetime': '2018-10-31', 'img': 'https://scontent-icn1-1.cdninstagram.com/vp/0252bb8566c20daf1d68d8ac5f14bd30/5C8A23EA/t51.2885-15/e35/42863262_292326524943229_6768892227588504279_n.jpg'}\n",
      "{'author': 'chonee_', 'content': '겨울아 오지마 #읏추읏추', 'tags': ['#읏추읏추'], 'location': 'Seoul, Korea', 'datetime': '2018-10-30', 'img': 'https://scontent-icn1-1.cdninstagram.com/vp/396c20c2bc3bd70b059d30dd9a9a5e50/5C6A8D1D/t51.2885-15/e35/43817637_1978170132480210_2116492882903011213_n.jpg'}\n",
      "{'author': 'leejunmine', 'content': '머리 짜를까 하루에 백번 생각한다', 'tags': [], 'location': None, 'datetime': '2018-10-30', 'img': 'https://scontent-icn1-1.cdninstagram.com/vp/f397064b58943999b68141238997ded3/5C6BFCF8/t51.2885-15/e35/43358144_308188846450315_6913521079665327194_n.jpg'}\n",
      "{'author': 'baebuldduki', 'content': '#소소한샌드위치#어글리표#특별메뉴\\n-어글리베이커리에서 즉석으로 만들어주신 최고의 샌드위치!\\n올리브가 살짝 박혀있는 바삭쫀쫀한 빵에 치즈,햄,로메인,할라피뇨,크림치즈,바질페스토 등등!\\n맛없을수 없는 조합이지만 레몬제스트가 향긋함을 더해주는게 새로운 킥에요!\\n익숙하면서도 기대보다 더 맛있는 맛❣️\\n#뚜기_마포 #뚜기x빱순🍚', 'tags': ['#소소한샌드위치', '#어글리표', '#특별메뉴', '#뚜기_마포', '#뚜기x빱순🍚'], 'location': '어글리베이커리', 'datetime': '2018-10-29', 'img': 'https://scontent-icn1-1.cdninstagram.com/vp/01da7bba9a9fdb6d52f74661ccd0f2b7/5C6BBB07/t51.2885-15/e35/43984726_305063863658619_8297485743525504382_n.jpg'}\n",
      "{'author': 'gwaenseure', 'content': '기부니가 좋은 수요일❤️\\n오늘은 괜스레 휴무입니다\\n수, 목 쉬고 금요일에 만나요❤️', 'tags': [], 'location': None, 'datetime': '2018-10-31', 'img': 'https://scontent-icn1-1.cdninstagram.com/vp/320e93f7980fa9a1aa5b229a78910a43/5C6F6340/t51.2885-15/e35/44494091_1878926795526830_8054113530117635319_n.jpg'}\n",
      "{'author': 'gui_madang4', 'content': '돼지고기가 일품인 이곳\\n구이마당에서 통삼겹과 전라도 파김치를~\\n\\n오늘 #저녁 구이마당 에서 우리 만나요~\\n\\n구이마당을 찾아오시는 분들은 아래 주소를 참고해주세요.⠀\\n마포구 용강동122-3⠀\\n서대문구 북가좌동 348-1⠀\\n용산구 청파로47나길 6⠀\\n은평구 증산서길 14-7⠀\\n마포구 망원동453-39⠀\\n.\\n맛있는 삼겹살과 파김치를 준비하고 있을게요.\\nヾ(๑╹◡╹)ﾉ\"\\n#마포역맛집#서대문맛집#마포맛집#맛집#먹스타그램#맛스타#용강동#증산역#증산동#망원동#먹방#맛있다#냉동삼겹살맛집#존맛#맛집추천#퇴근#오늘뭐먹지#막창#맛스타그램#jmt#구이마당#냉동삼겹살#냉삼#회식#배고파#가을#이영자맛집#일상#소확행', 'tags': ['#저녁', '#마포역맛집', '#서대문맛집', '#마포맛집', '#맛집', '#먹스타그램', '#맛스타', '#용강동', '#증산역', '#증산동', '#망원동', '#먹방', '#맛있다', '#냉동삼겹살맛집', '#존맛', '#맛집추천', '#퇴근', '#오늘뭐먹지', '#막창', '#맛스타그램', '#jmt', '#구이마당', '#냉동삼겹살', '#냉삼', '#회식', '#배고파', '#가을', '#이영자맛집', '#일상', '#소확행'], 'location': None, 'datetime': '2018-10-31', 'img': 'https://scontent-icn1-1.cdninstagram.com/vp/f9d1965f3e446053494364a3e3a6974e/5C63D670/t51.2885-15/e15/43232043_314308369163423_3103044080396254112_n.jpg'}\n",
      "\n"
     ]
    }
   ],
   "source": [
    "#망원동  게시물 694,508 중 15256개 수집\n",
    "#망리단길 게시물 210,659 중 9056\n",
    "# 3일 소요......\n",
    "\n",
    "results={}\n",
    "for i in tqdm_notebook(range(10)):\n",
    "    try:\n",
    "        results[i] = get_total_dict(browser)\n",
    "        print(get_total_dict(browser))\n",
    "    except:\n",
    "        pass\n",
    "    move_to_next(browser)"
   ]
  },
  {
   "cell_type": "markdown",
   "metadata": {},
   "source": [
    " - 수집데이터 정리하기"
   ]
  },
  {
   "cell_type": "code",
   "execution_count": 19,
   "metadata": {},
   "outputs": [],
   "source": [
    "import json\n",
    "import pandas as pd"
   ]
  },
  {
   "cell_type": "code",
   "execution_count": 18,
   "metadata": {},
   "outputs": [
    {
     "ename": "NameError",
     "evalue": "name 'pd' is not defined",
     "output_type": "error",
     "traceback": [
      "\u001b[1;31m---------------------------------------------------------------------------\u001b[0m",
      "\u001b[1;31mNameError\u001b[0m                                 Traceback (most recent call last)",
      "\u001b[1;32m<ipython-input-18-28f025cd939e>\u001b[0m in \u001b[0;36m<module>\u001b[1;34m()\u001b[0m\n\u001b[0;32m      1\u001b[0m \u001b[1;31m# pandas --> csv 로 저장하기\u001b[0m\u001b[1;33m\u001b[0m\u001b[1;33m\u001b[0m\u001b[0m\n\u001b[1;32m----> 2\u001b[1;33m \u001b[0mdatas\u001b[0m \u001b[1;33m=\u001b[0m \u001b[0mpd\u001b[0m\u001b[1;33m.\u001b[0m\u001b[0mDataFrame\u001b[0m\u001b[1;33m(\u001b[0m\u001b[0mresults\u001b[0m\u001b[1;33m)\u001b[0m\u001b[1;33m\u001b[0m\u001b[0m\n\u001b[0m\u001b[0;32m      3\u001b[0m \u001b[0mdatas\u001b[0m \u001b[1;33m=\u001b[0m \u001b[0mdatas\u001b[0m\u001b[1;33m.\u001b[0m\u001b[0mT\u001b[0m\u001b[1;33m\u001b[0m\u001b[0m\n\u001b[0;32m      4\u001b[0m \u001b[0mdatas\u001b[0m\u001b[1;33m.\u001b[0m\u001b[0mhead\u001b[0m\u001b[1;33m(\u001b[0m\u001b[1;33m)\u001b[0m\u001b[1;33m\u001b[0m\u001b[0m\n\u001b[0;32m      5\u001b[0m \u001b[0mdatas\u001b[0m\u001b[1;33m.\u001b[0m\u001b[0mto_excel\u001b[0m\u001b[1;33m(\u001b[0m\u001b[1;34m'망원동_total.xlsx'\u001b[0m\u001b[1;33m,\u001b[0m \u001b[0mencoding\u001b[0m\u001b[1;33m=\u001b[0m\u001b[1;34m'utf-8'\u001b[0m\u001b[1;33m,\u001b[0m \u001b[0mindex\u001b[0m\u001b[1;33m=\u001b[0m\u001b[1;32mFalse\u001b[0m\u001b[1;33m)\u001b[0m\u001b[1;33m\u001b[0m\u001b[0m\n",
      "\u001b[1;31mNameError\u001b[0m: name 'pd' is not defined"
     ]
    }
   ],
   "source": [
    "# pandas --> csv 로 저장하기\n",
    "datas = pd.DataFrame(results)\n",
    "datas = datas.T\n",
    "datas.head()\n",
    "datas.to_excel('망원동_total.xlsx', encoding='utf-8', index=False)"
   ]
  },
  {
   "cell_type": "code",
   "execution_count": 20,
   "metadata": {},
   "outputs": [],
   "source": [
    "datas = pd.read_excel('망원동_total.xlsx', encoding='utf-8', index_col=0)"
   ]
  },
  {
   "cell_type": "code",
   "execution_count": 21,
   "metadata": {
    "scrolled": true
   },
   "outputs": [
    {
     "data": {
      "text/html": [
       "<div>\n",
       "<style scoped>\n",
       "    .dataframe tbody tr th:only-of-type {\n",
       "        vertical-align: middle;\n",
       "    }\n",
       "\n",
       "    .dataframe tbody tr th {\n",
       "        vertical-align: top;\n",
       "    }\n",
       "\n",
       "    .dataframe thead th {\n",
       "        text-align: right;\n",
       "    }\n",
       "</style>\n",
       "<table border=\"1\" class=\"dataframe\">\n",
       "  <thead>\n",
       "    <tr style=\"text-align: right;\">\n",
       "      <th></th>\n",
       "      <th>author</th>\n",
       "      <th>content</th>\n",
       "      <th>datetime</th>\n",
       "      <th>img</th>\n",
       "      <th>location</th>\n",
       "      <th>tags</th>\n",
       "    </tr>\n",
       "    <tr>\n",
       "      <th>index</th>\n",
       "      <th></th>\n",
       "      <th></th>\n",
       "      <th></th>\n",
       "      <th></th>\n",
       "      <th></th>\n",
       "      <th></th>\n",
       "    </tr>\n",
       "  </thead>\n",
       "  <tbody>\n",
       "    <tr>\n",
       "      <th>0</th>\n",
       "      <td>sunhye1012</td>\n",
       "      <td>#올인원파스타\\r\\r\\n요즘 망원동이 핫하다던데 울신랑님 아는동생도 이쪽에 파스타집...</td>\n",
       "      <td>2018-09-18</td>\n",
       "      <td>https://scontent-icn1-1.cdninstagram.com/vp/c0...</td>\n",
       "      <td>망원동맛집</td>\n",
       "      <td>['#올인원파스타', '#망원동맛집', '#망리단길', '#망원동파스타', '#파스...</td>\n",
       "    </tr>\n",
       "    <tr>\n",
       "      <th>1</th>\n",
       "      <td>arang2o_o</td>\n",
       "      <td>에휴.. 안줄거 다 안다 😔😥💧</td>\n",
       "      <td>2018-10-19</td>\n",
       "      <td>https://scontent-icn1-1.cdninstagram.com/vp/56...</td>\n",
       "      <td>훌라훌라 Hulahula</td>\n",
       "      <td>[]</td>\n",
       "    </tr>\n",
       "    <tr>\n",
       "      <th>2</th>\n",
       "      <td>bbangsuni434</td>\n",
       "      <td>#망원동#소금집#소금집델리 #파스트라미샌드위치#잠봉뵈르#이탈리안히어로\\r\\r\\n(사...</td>\n",
       "      <td>2018-09-18</td>\n",
       "      <td>https://scontent-icn1-1.cdninstagram.com/vp/64...</td>\n",
       "      <td>NaN</td>\n",
       "      <td>['#망원동', '#소금집', '#소금집델리', '#파스트라미샌드위치', '#잠봉뵈...</td>\n",
       "    </tr>\n",
       "    <tr>\n",
       "      <th>3</th>\n",
       "      <td>luv__jane_</td>\n",
       "      <td>.\\r\\r\\n#망원동 .\\r\\r\\n.\\r\\r\\n퇴사한 언니랑 휴직중 지나:) 이쁜지...</td>\n",
       "      <td>2018-09-18</td>\n",
       "      <td>https://scontent-icn1-1.cdninstagram.com/vp/30...</td>\n",
       "      <td>Cafe Miei</td>\n",
       "      <td>['#망원동', '#망원동', '#망리단길', '#카페미아이', '#miei', '...</td>\n",
       "    </tr>\n",
       "    <tr>\n",
       "      <th>4</th>\n",
       "      <td>c.blueprint</td>\n",
       "      <td>무료로 스냅사진을 찍어드리는\\r\\r\\n망원동 망리단길 카페 '청사진'\\r\\r\\n'C...</td>\n",
       "      <td>2018-09-18</td>\n",
       "      <td>https://scontent-icn1-1.cdninstagram.com/vp/35...</td>\n",
       "      <td>카페청사진</td>\n",
       "      <td>[]</td>\n",
       "    </tr>\n",
       "  </tbody>\n",
       "</table>\n",
       "</div>"
      ],
      "text/plain": [
       "             author                                            content  \\\n",
       "index                                                                    \n",
       "0        sunhye1012  #올인원파스타\\r\\r\\n요즘 망원동이 핫하다던데 울신랑님 아는동생도 이쪽에 파스타집...   \n",
       "1         arang2o_o                                  에휴.. 안줄거 다 안다 😔😥💧   \n",
       "2      bbangsuni434  #망원동#소금집#소금집델리 #파스트라미샌드위치#잠봉뵈르#이탈리안히어로\\r\\r\\n(사...   \n",
       "3        luv__jane_  .\\r\\r\\n#망원동 .\\r\\r\\n.\\r\\r\\n퇴사한 언니랑 휴직중 지나:) 이쁜지...   \n",
       "4       c.blueprint  무료로 스냅사진을 찍어드리는\\r\\r\\n망원동 망리단길 카페 '청사진'\\r\\r\\n'C...   \n",
       "\n",
       "         datetime                                                img  \\\n",
       "index                                                                  \n",
       "0      2018-09-18  https://scontent-icn1-1.cdninstagram.com/vp/c0...   \n",
       "1      2018-10-19  https://scontent-icn1-1.cdninstagram.com/vp/56...   \n",
       "2      2018-09-18  https://scontent-icn1-1.cdninstagram.com/vp/64...   \n",
       "3      2018-09-18  https://scontent-icn1-1.cdninstagram.com/vp/30...   \n",
       "4      2018-09-18  https://scontent-icn1-1.cdninstagram.com/vp/35...   \n",
       "\n",
       "            location                                               tags  \n",
       "index                                                                    \n",
       "0              망원동맛집  ['#올인원파스타', '#망원동맛집', '#망리단길', '#망원동파스타', '#파스...  \n",
       "1      훌라훌라 Hulahula                                                 []  \n",
       "2                NaN  ['#망원동', '#소금집', '#소금집델리', '#파스트라미샌드위치', '#잠봉뵈...  \n",
       "3          Cafe Miei  ['#망원동', '#망원동', '#망리단길', '#카페미아이', '#miei', '...  \n",
       "4              카페청사진                                                 []  "
      ]
     },
     "execution_count": 21,
     "metadata": {},
     "output_type": "execute_result"
    }
   ],
   "source": [
    "datas.head()"
   ]
  },
  {
   "cell_type": "code",
   "execution_count": 7,
   "metadata": {
    "scrolled": false
   },
   "outputs": [
    {
     "name": "stdout",
     "output_type": "stream",
     "text": [
      "<class 'pandas.core.frame.DataFrame'>\n",
      "Int64Index: 19652 entries, 0 to 22882\n",
      "Data columns (total 6 columns):\n",
      "author      19652 non-null object\n",
      "content     19651 non-null object\n",
      "datetime    19652 non-null object\n",
      "img         17670 non-null object\n",
      "location    9364 non-null object\n",
      "tags        19652 non-null object\n",
      "dtypes: object(6)\n",
      "memory usage: 1.0+ MB\n"
     ]
    }
   ],
   "source": [
    "datas.info()"
   ]
  },
  {
   "cell_type": "code",
   "execution_count": 22,
   "metadata": {},
   "outputs": [
    {
     "data": {
      "text/plain": [
       "0.47649094239772033"
      ]
     },
     "execution_count": 22,
     "metadata": {},
     "output_type": "execute_result"
    }
   ],
   "source": [
    "# location 위치 입력 비율  : 48%\n",
    "len(datas[datas.location.notnull()]) / len(datas)"
   ]
  }
 ],
 "metadata": {
  "kernelspec": {
   "display_name": "Python 3",
   "language": "python",
   "name": "python3"
  },
  "language_info": {
   "codemirror_mode": {
    "name": "ipython",
    "version": 3
   },
   "file_extension": ".py",
   "mimetype": "text/x-python",
   "name": "python",
   "nbconvert_exporter": "python",
   "pygments_lexer": "ipython3",
   "version": "3.6.4"
  }
 },
 "nbformat": 4,
 "nbformat_minor": 2
}
