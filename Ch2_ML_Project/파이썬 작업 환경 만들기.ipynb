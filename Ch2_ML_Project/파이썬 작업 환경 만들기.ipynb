{
 "cells": [
  {
   "cell_type": "markdown",
   "metadata": {},
   "source": [
    "# 작업 환경 만들기\n",
    " - Cpytyon\n",
    "     - C로 구현된 파이썬 (일반적인 파이썬)\n",
    " - IPython\n",
    "     - http://taekho-nology.tistory.com/80\n",
    " - Jython\n",
    "     - 자바로 구현된 파이썬\n",
    "     - 자바코드를 가져와 실행할 수 있음 (JVM에 돌아갈수있음)\n",
    "     \n",
    "### 아나콘다\n",
    " - 아나콘다는 운영체제별로 사전에 컴파일된 많은 과학 패키지를 제공\n",
    " - 시스템의 기본파이썬을 변경하지않고 사용자권한으로 다양한 버전의 파이썬을 설치할 수 있는 등 장점이 많아 대부분의 경우 권장하는 방법\n",
    " - 아나콘다의 패키징 도구는 conda\n",
    "     \n",
    "\n",
    "### 설치되는 모듈은 다음과 같은 다이렉트 폴더에 저장 \n",
    "* python / Lib / site-package 에 다운로드 되어 설치\n",
    "    * pip install package \n",
    "* Anaconda / Lib / site-package에 다운로드 되어 설치 \n",
    "    * conda install package\n",
    "    \n",
    "![아나콘다 파이썬](images/python_configs/python_anaconda.png)"
   ]
  },
  {
   "cell_type": "code",
   "execution_count": 1,
   "metadata": {},
   "outputs": [
    {
     "name": "stdout",
     "output_type": "stream",
     "text": [
      "CPython 3.6.2\n",
      "IPython 6.1.0\n",
      "\n",
      "numpy 1.14.2\n",
      "scipy 1.0.0\n",
      "sklearn 0.19.1\n",
      "pandas 0.20.3\n",
      "matplotlib 2.1.2\n"
     ]
    }
   ],
   "source": [
    "# https://github.com/rasbt/watermark\n",
    "%load_ext watermark\n",
    "%watermark -v -p numpy,scipy,sklearn,pandas,matplotlib"
   ]
  },
  {
   "cell_type": "markdown",
   "metadata": {},
   "source": [
    "## Google Colab\n",
    "- https://colab.research.google.com/drive/1iHCbMgt5rdKceZHHaEX3St1Fhlc1rs4p#scrollTo=DHuV1AZC82QF"
   ]
  },
  {
   "cell_type": "markdown",
   "metadata": {},
   "source": [
    "# 가상화\n",
    "* 여러사람이 같이 하는 프로젝트라면 작업환경이 컴퓨터마다 다르기 때문에 맞춰서 작업하는것이 좋을것 같음.\n",
    "* 방법\n",
    "    - PyCharm을 이용한 방법\n",
    "        - 프로젝트로 단위로 설정하게 됨 \n",
    "        - 오류 사항을 미리 알려주고, 설치되지 않은 패키지는 빨간색으로 알려줌 \n",
    "    - 명령어의 의한 방법\n",
    "        - pip3 install --user --upgrade virtualenv\n",
    "\n",
    "## 아나콘다 (주피터, 파이썬)\n",
    "![아나콘다 주피터 설치패스](images/python_configs/anaconda_jupyter.png)\n",
    "![아나콘다 파이썬 설치패스](images/python_configs/anaconda_python.png)\n",
    "![아나콘다 파이썬 설치패스](images/python_configs/lib_python3.6.png)\n",
    "\n",
    "## 프로젝트별 파이썬\n",
    "![로컬파이썬가상화](images/python_configs/local가상화.png)"
   ]
  }
 ],
 "metadata": {
  "kernelspec": {
   "display_name": "Python 3",
   "language": "python",
   "name": "python3"
  },
  "language_info": {
   "codemirror_mode": {
    "name": "ipython",
    "version": 3
   },
   "file_extension": ".py",
   "mimetype": "text/x-python",
   "name": "python",
   "nbconvert_exporter": "python",
   "pygments_lexer": "ipython3",
   "version": "3.6.2"
  }
 },
 "nbformat": 4,
 "nbformat_minor": 2
}
