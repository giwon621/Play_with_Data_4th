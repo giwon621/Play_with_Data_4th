{
 "cells": [
  {
   "cell_type": "markdown",
   "metadata": {},
   "source": [
    "# 작업 환경 만들기\n",
    "\n",
    " - https://www.evernote.com/l/AFymZed5LKlFh4g6LKWiwAEDkdaSlDHh1wU\n",
    " - https://github.com/rasbt/watermark\n",
    " - http://www.python.org/\n",
    " - IPython\n",
    "     - http://taekho-nology.tistory.com/80"
   ]
  },
  {
   "cell_type": "code",
   "execution_count": 1,
   "metadata": {},
   "outputs": [
    {
     "name": "stdout",
     "output_type": "stream",
     "text": [
      "CPython 3.6.2\n",
      "IPython 6.1.0\n",
      "\n",
      "numpy 1.14.2\n",
      "scipy 1.0.0\n",
      "sklearn 0.19.1\n",
      "pandas 0.20.3\n",
      "matplotlib 2.1.2\n"
     ]
    }
   ],
   "source": [
    "%load_ext watermark\n",
    "%watermark -v -p numpy,scipy,sklearn,pandas,matplotlib"
   ]
  },
  {
   "cell_type": "markdown",
   "metadata": {},
   "source": [
    "https://colab.research.google.com/drive/1iHCbMgt5rdKceZHHaEX3St1Fhlc1rs4p#scrollTo=DHuV1AZC82QF"
   ]
  }
 ],
 "metadata": {
  "kernelspec": {
   "display_name": "Python 3",
   "language": "python",
   "name": "python3"
  },
  "language_info": {
   "codemirror_mode": {
    "name": "ipython",
    "version": 3
   },
   "file_extension": ".py",
   "mimetype": "text/x-python",
   "name": "python",
   "nbconvert_exporter": "python",
   "pygments_lexer": "ipython3",
   "version": "3.6.2"
  }
 },
 "nbformat": 4,
 "nbformat_minor": 2
}
