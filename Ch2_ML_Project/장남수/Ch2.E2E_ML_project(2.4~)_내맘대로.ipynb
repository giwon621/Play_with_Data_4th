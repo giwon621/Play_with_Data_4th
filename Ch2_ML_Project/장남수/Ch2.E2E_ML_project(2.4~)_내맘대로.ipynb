{
 "cells": [
  {
   "cell_type": "code",
   "execution_count": 23,
   "metadata": {},
   "outputs": [],
   "source": [
    "import pandas as pd"
   ]
  },
  {
   "cell_type": "code",
   "execution_count": 24,
   "metadata": {},
   "outputs": [
    {
     "data": {
      "text/html": [
       "<div>\n",
       "<style scoped>\n",
       "    .dataframe tbody tr th:only-of-type {\n",
       "        vertical-align: middle;\n",
       "    }\n",
       "\n",
       "    .dataframe tbody tr th {\n",
       "        vertical-align: top;\n",
       "    }\n",
       "\n",
       "    .dataframe thead th {\n",
       "        text-align: right;\n",
       "    }\n",
       "</style>\n",
       "<table border=\"1\" class=\"dataframe\">\n",
       "  <thead>\n",
       "    <tr style=\"text-align: right;\">\n",
       "      <th></th>\n",
       "      <th>longitude</th>\n",
       "      <th>latitude</th>\n",
       "      <th>housing_median_age</th>\n",
       "      <th>total_rooms</th>\n",
       "      <th>total_bedrooms</th>\n",
       "      <th>population</th>\n",
       "      <th>households</th>\n",
       "      <th>median_income</th>\n",
       "      <th>median_house_value</th>\n",
       "      <th>ocean_proximity</th>\n",
       "    </tr>\n",
       "  </thead>\n",
       "  <tbody>\n",
       "    <tr>\n",
       "      <th>0</th>\n",
       "      <td>-122.23</td>\n",
       "      <td>37.88</td>\n",
       "      <td>41.0</td>\n",
       "      <td>880.0</td>\n",
       "      <td>129.0</td>\n",
       "      <td>322.0</td>\n",
       "      <td>126.0</td>\n",
       "      <td>8.3252</td>\n",
       "      <td>452600.0</td>\n",
       "      <td>NEAR BAY</td>\n",
       "    </tr>\n",
       "    <tr>\n",
       "      <th>1</th>\n",
       "      <td>-122.22</td>\n",
       "      <td>37.86</td>\n",
       "      <td>21.0</td>\n",
       "      <td>7099.0</td>\n",
       "      <td>1106.0</td>\n",
       "      <td>2401.0</td>\n",
       "      <td>1138.0</td>\n",
       "      <td>8.3014</td>\n",
       "      <td>358500.0</td>\n",
       "      <td>NEAR BAY</td>\n",
       "    </tr>\n",
       "    <tr>\n",
       "      <th>2</th>\n",
       "      <td>-122.24</td>\n",
       "      <td>37.85</td>\n",
       "      <td>52.0</td>\n",
       "      <td>1467.0</td>\n",
       "      <td>190.0</td>\n",
       "      <td>496.0</td>\n",
       "      <td>177.0</td>\n",
       "      <td>7.2574</td>\n",
       "      <td>352100.0</td>\n",
       "      <td>NEAR BAY</td>\n",
       "    </tr>\n",
       "    <tr>\n",
       "      <th>3</th>\n",
       "      <td>-122.25</td>\n",
       "      <td>37.85</td>\n",
       "      <td>52.0</td>\n",
       "      <td>1274.0</td>\n",
       "      <td>235.0</td>\n",
       "      <td>558.0</td>\n",
       "      <td>219.0</td>\n",
       "      <td>5.6431</td>\n",
       "      <td>341300.0</td>\n",
       "      <td>NEAR BAY</td>\n",
       "    </tr>\n",
       "    <tr>\n",
       "      <th>4</th>\n",
       "      <td>-122.25</td>\n",
       "      <td>37.85</td>\n",
       "      <td>52.0</td>\n",
       "      <td>1627.0</td>\n",
       "      <td>280.0</td>\n",
       "      <td>565.0</td>\n",
       "      <td>259.0</td>\n",
       "      <td>3.8462</td>\n",
       "      <td>342200.0</td>\n",
       "      <td>NEAR BAY</td>\n",
       "    </tr>\n",
       "  </tbody>\n",
       "</table>\n",
       "</div>"
      ],
      "text/plain": [
       "   longitude  latitude  housing_median_age  total_rooms  total_bedrooms  \\\n",
       "0    -122.23     37.88                41.0        880.0           129.0   \n",
       "1    -122.22     37.86                21.0       7099.0          1106.0   \n",
       "2    -122.24     37.85                52.0       1467.0           190.0   \n",
       "3    -122.25     37.85                52.0       1274.0           235.0   \n",
       "4    -122.25     37.85                52.0       1627.0           280.0   \n",
       "\n",
       "   population  households  median_income  median_house_value ocean_proximity  \n",
       "0       322.0       126.0         8.3252            452600.0        NEAR BAY  \n",
       "1      2401.0      1138.0         8.3014            358500.0        NEAR BAY  \n",
       "2       496.0       177.0         7.2574            352100.0        NEAR BAY  \n",
       "3       558.0       219.0         5.6431            341300.0        NEAR BAY  \n",
       "4       565.0       259.0         3.8462            342200.0        NEAR BAY  "
      ]
     },
     "execution_count": 24,
     "metadata": {},
     "output_type": "execute_result"
    }
   ],
   "source": [
    "housing = pd.read_csv('housing.csv')\n",
    "housing.head()"
   ]
  },
  {
   "cell_type": "code",
   "execution_count": 25,
   "metadata": {},
   "outputs": [],
   "source": [
    "# Stratified sampling\n",
    "import numpy as np\n",
    "\n",
    "# median_income --> 분류 데이터로 나누기\n",
    "housing['income_cat'] = np.ceil(housing.median_income / 1.5)\n",
    "housing['income_cat'].where(housing.income_cat < 5, 5.0, inplace = True)"
   ]
  },
  {
   "cell_type": "code",
   "execution_count": 26,
   "metadata": {},
   "outputs": [],
   "source": [
    "from sklearn.model_selection import StratifiedShuffleSplit"
   ]
  },
  {
   "cell_type": "code",
   "execution_count": 27,
   "metadata": {},
   "outputs": [],
   "source": [
    "split = StratifiedShuffleSplit(n_splits = 1, test_size = 0.2, random_state=42)\n",
    "split\n",
    "for train_index, test_index in split.split(housing ,housing.income_cat):\n",
    "    strat_train_set = housing.iloc[train_index]\n",
    "    strat_test_set = housing.iloc[test_index]"
   ]
  },
  {
   "cell_type": "markdown",
   "metadata": {},
   "source": [
    "# 책 말고..."
   ]
  },
  {
   "cell_type": "code",
   "execution_count": 28,
   "metadata": {},
   "outputs": [],
   "source": [
    "# 학습데이터  features / labels 분리하기\n",
    "housing = strat_train_set.drop('median_house_value', axis=1)\n",
    "housing_labels = strat_train_set.median_house_value.copy()"
   ]
  },
  {
   "cell_type": "code",
   "execution_count": 29,
   "metadata": {
    "collapsed": true
   },
   "outputs": [
    {
     "data": {
      "text/plain": [
       "17606    286600.0\n",
       "18632    340600.0\n",
       "14650    196900.0\n",
       "3230      46300.0\n",
       "3555     254500.0\n",
       "19480    127900.0\n",
       "8879     500001.0\n",
       "13685    140200.0\n",
       "4937      95000.0\n",
       "4861     500001.0\n",
       "16365     92100.0\n",
       "19684     61500.0\n",
       "19234    313000.0\n",
       "13956     89000.0\n",
       "2390     123900.0\n",
       "11176    197400.0\n",
       "15614    500001.0\n",
       "2953      63300.0\n",
       "13209    107000.0\n",
       "6569     184200.0\n",
       "5825     280900.0\n",
       "18086    500001.0\n",
       "16718    171300.0\n",
       "13600    116600.0\n",
       "13989     60800.0\n",
       "15168    121100.0\n",
       "6747     270700.0\n",
       "7398     109900.0\n",
       "5562     159600.0\n",
       "16121    500001.0\n",
       "           ...   \n",
       "12380    122500.0\n",
       "5618     350000.0\n",
       "10060    172800.0\n",
       "18067    500001.0\n",
       "4471     146600.0\n",
       "19786     81300.0\n",
       "9969     247600.0\n",
       "14621    164100.0\n",
       "579      254900.0\n",
       "11682    185700.0\n",
       "245      126800.0\n",
       "12130    114200.0\n",
       "16441    101800.0\n",
       "11016    265600.0\n",
       "19934     88900.0\n",
       "1364     225000.0\n",
       "1236     123500.0\n",
       "5364     500001.0\n",
       "11703    321600.0\n",
       "10356    266000.0\n",
       "15270    346700.0\n",
       "3754     190200.0\n",
       "12166    148800.0\n",
       "6003     214800.0\n",
       "7364     174300.0\n",
       "6563     240200.0\n",
       "12053    113000.0\n",
       "13908     97800.0\n",
       "11159    225900.0\n",
       "15775    500001.0\n",
       "Name: median_house_value, Length: 16512, dtype: float64"
      ]
     },
     "execution_count": 29,
     "metadata": {},
     "output_type": "execute_result"
    }
   ],
   "source": [
    "housing_labels"
   ]
  },
  {
   "cell_type": "code",
   "execution_count": null,
   "metadata": {},
   "outputs": [],
   "source": [
    "# na 처리하기"
   ]
  },
  {
   "cell_type": "code",
   "execution_count": 30,
   "metadata": {
    "scrolled": false
   },
   "outputs": [
    {
     "name": "stdout",
     "output_type": "stream",
     "text": [
      "<class 'pandas.core.frame.DataFrame'>\n",
      "Int64Index: 16512 entries, 17606 to 15775\n",
      "Data columns (total 10 columns):\n",
      "longitude             16512 non-null float64\n",
      "latitude              16512 non-null float64\n",
      "housing_median_age    16512 non-null float64\n",
      "total_rooms           16512 non-null float64\n",
      "total_bedrooms        16354 non-null float64\n",
      "population            16512 non-null float64\n",
      "households            16512 non-null float64\n",
      "median_income         16512 non-null float64\n",
      "ocean_proximity       16512 non-null object\n",
      "income_cat            16512 non-null float64\n",
      "dtypes: float64(9), object(1)\n",
      "memory usage: 1.4+ MB\n"
     ]
    }
   ],
   "source": [
    "housing.info()\n",
    "# total_bedrooms  na 가짐"
   ]
  },
  {
   "cell_type": "code",
   "execution_count": 31,
   "metadata": {},
   "outputs": [],
   "source": [
    "housing.fillna(housing.median(), inplace = True)"
   ]
  },
  {
   "cell_type": "code",
   "execution_count": 32,
   "metadata": {},
   "outputs": [
    {
     "name": "stdout",
     "output_type": "stream",
     "text": [
      "<class 'pandas.core.frame.DataFrame'>\n",
      "Int64Index: 16512 entries, 17606 to 15775\n",
      "Data columns (total 10 columns):\n",
      "longitude             16512 non-null float64\n",
      "latitude              16512 non-null float64\n",
      "housing_median_age    16512 non-null float64\n",
      "total_rooms           16512 non-null float64\n",
      "total_bedrooms        16512 non-null float64\n",
      "population            16512 non-null float64\n",
      "households            16512 non-null float64\n",
      "median_income         16512 non-null float64\n",
      "ocean_proximity       16512 non-null object\n",
      "income_cat            16512 non-null float64\n",
      "dtypes: float64(9), object(1)\n",
      "memory usage: 1.4+ MB\n"
     ]
    }
   ],
   "source": [
    "housing.info()"
   ]
  },
  {
   "cell_type": "code",
   "execution_count": 33,
   "metadata": {},
   "outputs": [],
   "source": [
    "# 분류형 데이터 정리하기"
   ]
  },
  {
   "cell_type": "code",
   "execution_count": 34,
   "metadata": {},
   "outputs": [],
   "source": [
    "import pandas as pd"
   ]
  },
  {
   "cell_type": "code",
   "execution_count": 35,
   "metadata": {},
   "outputs": [
    {
     "data": {
      "text/html": [
       "<div>\n",
       "<style scoped>\n",
       "    .dataframe tbody tr th:only-of-type {\n",
       "        vertical-align: middle;\n",
       "    }\n",
       "\n",
       "    .dataframe tbody tr th {\n",
       "        vertical-align: top;\n",
       "    }\n",
       "\n",
       "    .dataframe thead th {\n",
       "        text-align: right;\n",
       "    }\n",
       "</style>\n",
       "<table border=\"1\" class=\"dataframe\">\n",
       "  <thead>\n",
       "    <tr style=\"text-align: right;\">\n",
       "      <th></th>\n",
       "      <th>&lt;1H OCEAN</th>\n",
       "      <th>INLAND</th>\n",
       "      <th>ISLAND</th>\n",
       "      <th>NEAR BAY</th>\n",
       "      <th>NEAR OCEAN</th>\n",
       "    </tr>\n",
       "  </thead>\n",
       "  <tbody>\n",
       "    <tr>\n",
       "      <th>17606</th>\n",
       "      <td>1</td>\n",
       "      <td>0</td>\n",
       "      <td>0</td>\n",
       "      <td>0</td>\n",
       "      <td>0</td>\n",
       "    </tr>\n",
       "    <tr>\n",
       "      <th>18632</th>\n",
       "      <td>1</td>\n",
       "      <td>0</td>\n",
       "      <td>0</td>\n",
       "      <td>0</td>\n",
       "      <td>0</td>\n",
       "    </tr>\n",
       "    <tr>\n",
       "      <th>14650</th>\n",
       "      <td>0</td>\n",
       "      <td>0</td>\n",
       "      <td>0</td>\n",
       "      <td>0</td>\n",
       "      <td>1</td>\n",
       "    </tr>\n",
       "    <tr>\n",
       "      <th>3230</th>\n",
       "      <td>0</td>\n",
       "      <td>1</td>\n",
       "      <td>0</td>\n",
       "      <td>0</td>\n",
       "      <td>0</td>\n",
       "    </tr>\n",
       "    <tr>\n",
       "      <th>3555</th>\n",
       "      <td>1</td>\n",
       "      <td>0</td>\n",
       "      <td>0</td>\n",
       "      <td>0</td>\n",
       "      <td>0</td>\n",
       "    </tr>\n",
       "  </tbody>\n",
       "</table>\n",
       "</div>"
      ],
      "text/plain": [
       "       <1H OCEAN  INLAND  ISLAND  NEAR BAY  NEAR OCEAN\n",
       "17606          1       0       0         0           0\n",
       "18632          1       0       0         0           0\n",
       "14650          0       0       0         0           1\n",
       "3230           0       1       0         0           0\n",
       "3555           1       0       0         0           0"
      ]
     },
     "execution_count": 35,
     "metadata": {},
     "output_type": "execute_result"
    }
   ],
   "source": [
    "housing_ocean = pd.get_dummies(housing.ocean_proximity)\n",
    "housing_ocean.head()"
   ]
  },
  {
   "cell_type": "code",
   "execution_count": 36,
   "metadata": {},
   "outputs": [
    {
     "data": {
      "text/html": [
       "<div>\n",
       "<style scoped>\n",
       "    .dataframe tbody tr th:only-of-type {\n",
       "        vertical-align: middle;\n",
       "    }\n",
       "\n",
       "    .dataframe tbody tr th {\n",
       "        vertical-align: top;\n",
       "    }\n",
       "\n",
       "    .dataframe thead th {\n",
       "        text-align: right;\n",
       "    }\n",
       "</style>\n",
       "<table border=\"1\" class=\"dataframe\">\n",
       "  <thead>\n",
       "    <tr style=\"text-align: right;\">\n",
       "      <th></th>\n",
       "      <th>&lt;1H OCEAN</th>\n",
       "      <th>INLAND</th>\n",
       "      <th>ISLAND</th>\n",
       "      <th>NEAR BAY</th>\n",
       "    </tr>\n",
       "  </thead>\n",
       "  <tbody>\n",
       "    <tr>\n",
       "      <th>17606</th>\n",
       "      <td>1</td>\n",
       "      <td>0</td>\n",
       "      <td>0</td>\n",
       "      <td>0</td>\n",
       "    </tr>\n",
       "    <tr>\n",
       "      <th>18632</th>\n",
       "      <td>1</td>\n",
       "      <td>0</td>\n",
       "      <td>0</td>\n",
       "      <td>0</td>\n",
       "    </tr>\n",
       "    <tr>\n",
       "      <th>14650</th>\n",
       "      <td>0</td>\n",
       "      <td>0</td>\n",
       "      <td>0</td>\n",
       "      <td>0</td>\n",
       "    </tr>\n",
       "    <tr>\n",
       "      <th>3230</th>\n",
       "      <td>0</td>\n",
       "      <td>1</td>\n",
       "      <td>0</td>\n",
       "      <td>0</td>\n",
       "    </tr>\n",
       "    <tr>\n",
       "      <th>3555</th>\n",
       "      <td>1</td>\n",
       "      <td>0</td>\n",
       "      <td>0</td>\n",
       "      <td>0</td>\n",
       "    </tr>\n",
       "  </tbody>\n",
       "</table>\n",
       "</div>"
      ],
      "text/plain": [
       "       <1H OCEAN  INLAND  ISLAND  NEAR BAY\n",
       "17606          1       0       0         0\n",
       "18632          1       0       0         0\n",
       "14650          0       0       0         0\n",
       "3230           0       1       0         0\n",
       "3555           1       0       0         0"
      ]
     },
     "execution_count": 36,
     "metadata": {},
     "output_type": "execute_result"
    }
   ],
   "source": [
    "housing_ocean.drop('NEAR OCEAN',axis=1, inplace=True)   # 1개의 컬럼이 없어도 구분 가능함. \n",
    "housing_ocean.head()"
   ]
  },
  {
   "cell_type": "code",
   "execution_count": 38,
   "metadata": {},
   "outputs": [],
   "source": [
    "housing_pre = housing.drop('ocean_proximity', axis=1)\n",
    "housing_train = pd.merge(housing_pre, housing_ocean, how = 'outer', left_index = True, right_index = True)\n"
   ]
  },
  {
   "cell_type": "code",
   "execution_count": 39,
   "metadata": {},
   "outputs": [
    {
     "data": {
      "text/html": [
       "<div>\n",
       "<style scoped>\n",
       "    .dataframe tbody tr th:only-of-type {\n",
       "        vertical-align: middle;\n",
       "    }\n",
       "\n",
       "    .dataframe tbody tr th {\n",
       "        vertical-align: top;\n",
       "    }\n",
       "\n",
       "    .dataframe thead th {\n",
       "        text-align: right;\n",
       "    }\n",
       "</style>\n",
       "<table border=\"1\" class=\"dataframe\">\n",
       "  <thead>\n",
       "    <tr style=\"text-align: right;\">\n",
       "      <th></th>\n",
       "      <th>longitude</th>\n",
       "      <th>latitude</th>\n",
       "      <th>housing_median_age</th>\n",
       "      <th>total_rooms</th>\n",
       "      <th>total_bedrooms</th>\n",
       "      <th>population</th>\n",
       "      <th>households</th>\n",
       "      <th>median_income</th>\n",
       "      <th>income_cat</th>\n",
       "      <th>&lt;1H OCEAN</th>\n",
       "      <th>INLAND</th>\n",
       "      <th>ISLAND</th>\n",
       "      <th>NEAR BAY</th>\n",
       "    </tr>\n",
       "  </thead>\n",
       "  <tbody>\n",
       "    <tr>\n",
       "      <th>17606</th>\n",
       "      <td>-121.89</td>\n",
       "      <td>37.29</td>\n",
       "      <td>38.0</td>\n",
       "      <td>1568.0</td>\n",
       "      <td>351.0</td>\n",
       "      <td>710.0</td>\n",
       "      <td>339.0</td>\n",
       "      <td>2.7042</td>\n",
       "      <td>2.0</td>\n",
       "      <td>1</td>\n",
       "      <td>0</td>\n",
       "      <td>0</td>\n",
       "      <td>0</td>\n",
       "    </tr>\n",
       "    <tr>\n",
       "      <th>18632</th>\n",
       "      <td>-121.93</td>\n",
       "      <td>37.05</td>\n",
       "      <td>14.0</td>\n",
       "      <td>679.0</td>\n",
       "      <td>108.0</td>\n",
       "      <td>306.0</td>\n",
       "      <td>113.0</td>\n",
       "      <td>6.4214</td>\n",
       "      <td>5.0</td>\n",
       "      <td>1</td>\n",
       "      <td>0</td>\n",
       "      <td>0</td>\n",
       "      <td>0</td>\n",
       "    </tr>\n",
       "    <tr>\n",
       "      <th>14650</th>\n",
       "      <td>-117.20</td>\n",
       "      <td>32.77</td>\n",
       "      <td>31.0</td>\n",
       "      <td>1952.0</td>\n",
       "      <td>471.0</td>\n",
       "      <td>936.0</td>\n",
       "      <td>462.0</td>\n",
       "      <td>2.8621</td>\n",
       "      <td>2.0</td>\n",
       "      <td>0</td>\n",
       "      <td>0</td>\n",
       "      <td>0</td>\n",
       "      <td>0</td>\n",
       "    </tr>\n",
       "    <tr>\n",
       "      <th>3230</th>\n",
       "      <td>-119.61</td>\n",
       "      <td>36.31</td>\n",
       "      <td>25.0</td>\n",
       "      <td>1847.0</td>\n",
       "      <td>371.0</td>\n",
       "      <td>1460.0</td>\n",
       "      <td>353.0</td>\n",
       "      <td>1.8839</td>\n",
       "      <td>2.0</td>\n",
       "      <td>0</td>\n",
       "      <td>1</td>\n",
       "      <td>0</td>\n",
       "      <td>0</td>\n",
       "    </tr>\n",
       "    <tr>\n",
       "      <th>3555</th>\n",
       "      <td>-118.59</td>\n",
       "      <td>34.23</td>\n",
       "      <td>17.0</td>\n",
       "      <td>6592.0</td>\n",
       "      <td>1525.0</td>\n",
       "      <td>4459.0</td>\n",
       "      <td>1463.0</td>\n",
       "      <td>3.0347</td>\n",
       "      <td>3.0</td>\n",
       "      <td>1</td>\n",
       "      <td>0</td>\n",
       "      <td>0</td>\n",
       "      <td>0</td>\n",
       "    </tr>\n",
       "  </tbody>\n",
       "</table>\n",
       "</div>"
      ],
      "text/plain": [
       "       longitude  latitude  housing_median_age  total_rooms  total_bedrooms  \\\n",
       "17606    -121.89     37.29                38.0       1568.0           351.0   \n",
       "18632    -121.93     37.05                14.0        679.0           108.0   \n",
       "14650    -117.20     32.77                31.0       1952.0           471.0   \n",
       "3230     -119.61     36.31                25.0       1847.0           371.0   \n",
       "3555     -118.59     34.23                17.0       6592.0          1525.0   \n",
       "\n",
       "       population  households  median_income  income_cat  <1H OCEAN  INLAND  \\\n",
       "17606       710.0       339.0         2.7042         2.0          1       0   \n",
       "18632       306.0       113.0         6.4214         5.0          1       0   \n",
       "14650       936.0       462.0         2.8621         2.0          0       0   \n",
       "3230       1460.0       353.0         1.8839         2.0          0       1   \n",
       "3555       4459.0      1463.0         3.0347         3.0          1       0   \n",
       "\n",
       "       ISLAND  NEAR BAY  \n",
       "17606       0         0  \n",
       "18632       0         0  \n",
       "14650       0         0  \n",
       "3230        0         0  \n",
       "3555        0         0  "
      ]
     },
     "execution_count": 39,
     "metadata": {},
     "output_type": "execute_result"
    }
   ],
   "source": [
    "housing_train.head()"
   ]
  },
  {
   "cell_type": "code",
   "execution_count": null,
   "metadata": {},
   "outputs": [],
   "source": []
  },
  {
   "cell_type": "code",
   "execution_count": null,
   "metadata": {},
   "outputs": [],
   "source": []
  },
  {
   "cell_type": "code",
   "execution_count": 40,
   "metadata": {
    "scrolled": false
   },
   "outputs": [
    {
     "data": {
      "text/html": [
       "<div>\n",
       "<style scoped>\n",
       "    .dataframe tbody tr th:only-of-type {\n",
       "        vertical-align: middle;\n",
       "    }\n",
       "\n",
       "    .dataframe tbody tr th {\n",
       "        vertical-align: top;\n",
       "    }\n",
       "\n",
       "    .dataframe thead th {\n",
       "        text-align: right;\n",
       "    }\n",
       "</style>\n",
       "<table border=\"1\" class=\"dataframe\">\n",
       "  <thead>\n",
       "    <tr style=\"text-align: right;\">\n",
       "      <th></th>\n",
       "      <th>longitude</th>\n",
       "      <th>latitude</th>\n",
       "      <th>housing_median_age</th>\n",
       "      <th>total_rooms</th>\n",
       "      <th>total_bedrooms</th>\n",
       "      <th>population</th>\n",
       "      <th>households</th>\n",
       "      <th>median_income</th>\n",
       "      <th>median_house_value</th>\n",
       "      <th>ocean_proximity</th>\n",
       "      <th>income_cat</th>\n",
       "    </tr>\n",
       "  </thead>\n",
       "  <tbody>\n",
       "    <tr>\n",
       "      <th>5241</th>\n",
       "      <td>-118.39</td>\n",
       "      <td>34.12</td>\n",
       "      <td>29.0</td>\n",
       "      <td>6447.0</td>\n",
       "      <td>1012.0</td>\n",
       "      <td>2184.0</td>\n",
       "      <td>960.0</td>\n",
       "      <td>8.2816</td>\n",
       "      <td>500001.0</td>\n",
       "      <td>&lt;1H OCEAN</td>\n",
       "      <td>5.0</td>\n",
       "    </tr>\n",
       "    <tr>\n",
       "      <th>10970</th>\n",
       "      <td>-117.86</td>\n",
       "      <td>33.77</td>\n",
       "      <td>39.0</td>\n",
       "      <td>4159.0</td>\n",
       "      <td>655.0</td>\n",
       "      <td>1669.0</td>\n",
       "      <td>651.0</td>\n",
       "      <td>4.6111</td>\n",
       "      <td>240300.0</td>\n",
       "      <td>&lt;1H OCEAN</td>\n",
       "      <td>4.0</td>\n",
       "    </tr>\n",
       "    <tr>\n",
       "      <th>20351</th>\n",
       "      <td>-119.05</td>\n",
       "      <td>34.21</td>\n",
       "      <td>27.0</td>\n",
       "      <td>4357.0</td>\n",
       "      <td>926.0</td>\n",
       "      <td>2110.0</td>\n",
       "      <td>876.0</td>\n",
       "      <td>3.0119</td>\n",
       "      <td>218200.0</td>\n",
       "      <td>&lt;1H OCEAN</td>\n",
       "      <td>3.0</td>\n",
       "    </tr>\n",
       "    <tr>\n",
       "      <th>6568</th>\n",
       "      <td>-118.15</td>\n",
       "      <td>34.20</td>\n",
       "      <td>52.0</td>\n",
       "      <td>1786.0</td>\n",
       "      <td>306.0</td>\n",
       "      <td>1018.0</td>\n",
       "      <td>322.0</td>\n",
       "      <td>4.1518</td>\n",
       "      <td>182100.0</td>\n",
       "      <td>INLAND</td>\n",
       "      <td>3.0</td>\n",
       "    </tr>\n",
       "    <tr>\n",
       "      <th>13285</th>\n",
       "      <td>-117.68</td>\n",
       "      <td>34.07</td>\n",
       "      <td>32.0</td>\n",
       "      <td>1775.0</td>\n",
       "      <td>314.0</td>\n",
       "      <td>1067.0</td>\n",
       "      <td>302.0</td>\n",
       "      <td>4.0375</td>\n",
       "      <td>121300.0</td>\n",
       "      <td>INLAND</td>\n",
       "      <td>3.0</td>\n",
       "    </tr>\n",
       "  </tbody>\n",
       "</table>\n",
       "</div>"
      ],
      "text/plain": [
       "       longitude  latitude  housing_median_age  total_rooms  total_bedrooms  \\\n",
       "5241     -118.39     34.12                29.0       6447.0          1012.0   \n",
       "10970    -117.86     33.77                39.0       4159.0           655.0   \n",
       "20351    -119.05     34.21                27.0       4357.0           926.0   \n",
       "6568     -118.15     34.20                52.0       1786.0           306.0   \n",
       "13285    -117.68     34.07                32.0       1775.0           314.0   \n",
       "\n",
       "       population  households  median_income  median_house_value  \\\n",
       "5241       2184.0       960.0         8.2816            500001.0   \n",
       "10970      1669.0       651.0         4.6111            240300.0   \n",
       "20351      2110.0       876.0         3.0119            218200.0   \n",
       "6568       1018.0       322.0         4.1518            182100.0   \n",
       "13285      1067.0       302.0         4.0375            121300.0   \n",
       "\n",
       "      ocean_proximity  income_cat  \n",
       "5241        <1H OCEAN         5.0  \n",
       "10970       <1H OCEAN         4.0  \n",
       "20351       <1H OCEAN         3.0  \n",
       "6568           INLAND         3.0  \n",
       "13285          INLAND         3.0  "
      ]
     },
     "execution_count": 40,
     "metadata": {},
     "output_type": "execute_result"
    }
   ],
   "source": [
    "# 테스트데이터 정리하기\n",
    "strat_test_set.head()"
   ]
  },
  {
   "cell_type": "code",
   "execution_count": null,
   "metadata": {},
   "outputs": [],
   "source": [
    "# test_labels = strat_test_set.median_house_value.copy()"
   ]
  },
  {
   "cell_type": "code",
   "execution_count": 41,
   "metadata": {},
   "outputs": [
    {
     "name": "stdout",
     "output_type": "stream",
     "text": [
      "<class 'pandas.core.frame.DataFrame'>\n",
      "Int64Index: 4128 entries, 5241 to 2398\n",
      "Data columns (total 11 columns):\n",
      "longitude             4128 non-null float64\n",
      "latitude              4128 non-null float64\n",
      "housing_median_age    4128 non-null float64\n",
      "total_rooms           4128 non-null float64\n",
      "total_bedrooms        4079 non-null float64\n",
      "population            4128 non-null float64\n",
      "households            4128 non-null float64\n",
      "median_income         4128 non-null float64\n",
      "median_house_value    4128 non-null float64\n",
      "ocean_proximity       4128 non-null object\n",
      "income_cat            4128 non-null float64\n",
      "dtypes: float64(10), object(1)\n",
      "memory usage: 387.0+ KB\n"
     ]
    }
   ],
   "source": [
    "strat_test_set.info()"
   ]
  },
  {
   "cell_type": "code",
   "execution_count": 42,
   "metadata": {},
   "outputs": [],
   "source": [
    "test_set = strat_test_set.fillna(strat_test_set.median())"
   ]
  },
  {
   "cell_type": "code",
   "execution_count": 43,
   "metadata": {},
   "outputs": [
    {
     "name": "stdout",
     "output_type": "stream",
     "text": [
      "<class 'pandas.core.frame.DataFrame'>\n",
      "Int64Index: 4128 entries, 5241 to 2398\n",
      "Data columns (total 11 columns):\n",
      "longitude             4128 non-null float64\n",
      "latitude              4128 non-null float64\n",
      "housing_median_age    4128 non-null float64\n",
      "total_rooms           4128 non-null float64\n",
      "total_bedrooms        4128 non-null float64\n",
      "population            4128 non-null float64\n",
      "households            4128 non-null float64\n",
      "median_income         4128 non-null float64\n",
      "median_house_value    4128 non-null float64\n",
      "ocean_proximity       4128 non-null object\n",
      "income_cat            4128 non-null float64\n",
      "dtypes: float64(10), object(1)\n",
      "memory usage: 387.0+ KB\n"
     ]
    }
   ],
   "source": [
    "test_set.info()"
   ]
  },
  {
   "cell_type": "code",
   "execution_count": 44,
   "metadata": {},
   "outputs": [
    {
     "data": {
      "text/html": [
       "<div>\n",
       "<style scoped>\n",
       "    .dataframe tbody tr th:only-of-type {\n",
       "        vertical-align: middle;\n",
       "    }\n",
       "\n",
       "    .dataframe tbody tr th {\n",
       "        vertical-align: top;\n",
       "    }\n",
       "\n",
       "    .dataframe thead th {\n",
       "        text-align: right;\n",
       "    }\n",
       "</style>\n",
       "<table border=\"1\" class=\"dataframe\">\n",
       "  <thead>\n",
       "    <tr style=\"text-align: right;\">\n",
       "      <th></th>\n",
       "      <th>&lt;1H OCEAN</th>\n",
       "      <th>INLAND</th>\n",
       "      <th>ISLAND</th>\n",
       "      <th>NEAR BAY</th>\n",
       "    </tr>\n",
       "  </thead>\n",
       "  <tbody>\n",
       "    <tr>\n",
       "      <th>5241</th>\n",
       "      <td>1</td>\n",
       "      <td>0</td>\n",
       "      <td>0</td>\n",
       "      <td>0</td>\n",
       "    </tr>\n",
       "    <tr>\n",
       "      <th>10970</th>\n",
       "      <td>1</td>\n",
       "      <td>0</td>\n",
       "      <td>0</td>\n",
       "      <td>0</td>\n",
       "    </tr>\n",
       "    <tr>\n",
       "      <th>20351</th>\n",
       "      <td>1</td>\n",
       "      <td>0</td>\n",
       "      <td>0</td>\n",
       "      <td>0</td>\n",
       "    </tr>\n",
       "    <tr>\n",
       "      <th>6568</th>\n",
       "      <td>0</td>\n",
       "      <td>1</td>\n",
       "      <td>0</td>\n",
       "      <td>0</td>\n",
       "    </tr>\n",
       "    <tr>\n",
       "      <th>13285</th>\n",
       "      <td>0</td>\n",
       "      <td>1</td>\n",
       "      <td>0</td>\n",
       "      <td>0</td>\n",
       "    </tr>\n",
       "  </tbody>\n",
       "</table>\n",
       "</div>"
      ],
      "text/plain": [
       "       <1H OCEAN  INLAND  ISLAND  NEAR BAY\n",
       "5241           1       0       0         0\n",
       "10970          1       0       0         0\n",
       "20351          1       0       0         0\n",
       "6568           0       1       0         0\n",
       "13285          0       1       0         0"
      ]
     },
     "execution_count": 44,
     "metadata": {},
     "output_type": "execute_result"
    }
   ],
   "source": [
    "test_set_data_ocean = pd.get_dummies(test_set.ocean_proximity)\n",
    "test_set_data_ocean.drop('NEAR OCEAN', axis = 1, inplace=True)\n",
    "test_set_data_ocean.head()"
   ]
  },
  {
   "cell_type": "code",
   "execution_count": 45,
   "metadata": {
    "scrolled": true
   },
   "outputs": [
    {
     "data": {
      "text/html": [
       "<div>\n",
       "<style scoped>\n",
       "    .dataframe tbody tr th:only-of-type {\n",
       "        vertical-align: middle;\n",
       "    }\n",
       "\n",
       "    .dataframe tbody tr th {\n",
       "        vertical-align: top;\n",
       "    }\n",
       "\n",
       "    .dataframe thead th {\n",
       "        text-align: right;\n",
       "    }\n",
       "</style>\n",
       "<table border=\"1\" class=\"dataframe\">\n",
       "  <thead>\n",
       "    <tr style=\"text-align: right;\">\n",
       "      <th></th>\n",
       "      <th>longitude</th>\n",
       "      <th>latitude</th>\n",
       "      <th>housing_median_age</th>\n",
       "      <th>total_rooms</th>\n",
       "      <th>total_bedrooms</th>\n",
       "      <th>population</th>\n",
       "      <th>households</th>\n",
       "      <th>median_income</th>\n",
       "      <th>median_house_value</th>\n",
       "      <th>income_cat</th>\n",
       "      <th>&lt;1H OCEAN</th>\n",
       "      <th>INLAND</th>\n",
       "      <th>ISLAND</th>\n",
       "      <th>NEAR BAY</th>\n",
       "    </tr>\n",
       "  </thead>\n",
       "  <tbody>\n",
       "    <tr>\n",
       "      <th>5241</th>\n",
       "      <td>-118.39</td>\n",
       "      <td>34.12</td>\n",
       "      <td>29.0</td>\n",
       "      <td>6447.0</td>\n",
       "      <td>1012.0</td>\n",
       "      <td>2184.0</td>\n",
       "      <td>960.0</td>\n",
       "      <td>8.2816</td>\n",
       "      <td>500001.0</td>\n",
       "      <td>5.0</td>\n",
       "      <td>1</td>\n",
       "      <td>0</td>\n",
       "      <td>0</td>\n",
       "      <td>0</td>\n",
       "    </tr>\n",
       "    <tr>\n",
       "      <th>10970</th>\n",
       "      <td>-117.86</td>\n",
       "      <td>33.77</td>\n",
       "      <td>39.0</td>\n",
       "      <td>4159.0</td>\n",
       "      <td>655.0</td>\n",
       "      <td>1669.0</td>\n",
       "      <td>651.0</td>\n",
       "      <td>4.6111</td>\n",
       "      <td>240300.0</td>\n",
       "      <td>4.0</td>\n",
       "      <td>1</td>\n",
       "      <td>0</td>\n",
       "      <td>0</td>\n",
       "      <td>0</td>\n",
       "    </tr>\n",
       "    <tr>\n",
       "      <th>20351</th>\n",
       "      <td>-119.05</td>\n",
       "      <td>34.21</td>\n",
       "      <td>27.0</td>\n",
       "      <td>4357.0</td>\n",
       "      <td>926.0</td>\n",
       "      <td>2110.0</td>\n",
       "      <td>876.0</td>\n",
       "      <td>3.0119</td>\n",
       "      <td>218200.0</td>\n",
       "      <td>3.0</td>\n",
       "      <td>1</td>\n",
       "      <td>0</td>\n",
       "      <td>0</td>\n",
       "      <td>0</td>\n",
       "    </tr>\n",
       "    <tr>\n",
       "      <th>6568</th>\n",
       "      <td>-118.15</td>\n",
       "      <td>34.20</td>\n",
       "      <td>52.0</td>\n",
       "      <td>1786.0</td>\n",
       "      <td>306.0</td>\n",
       "      <td>1018.0</td>\n",
       "      <td>322.0</td>\n",
       "      <td>4.1518</td>\n",
       "      <td>182100.0</td>\n",
       "      <td>3.0</td>\n",
       "      <td>0</td>\n",
       "      <td>1</td>\n",
       "      <td>0</td>\n",
       "      <td>0</td>\n",
       "    </tr>\n",
       "    <tr>\n",
       "      <th>13285</th>\n",
       "      <td>-117.68</td>\n",
       "      <td>34.07</td>\n",
       "      <td>32.0</td>\n",
       "      <td>1775.0</td>\n",
       "      <td>314.0</td>\n",
       "      <td>1067.0</td>\n",
       "      <td>302.0</td>\n",
       "      <td>4.0375</td>\n",
       "      <td>121300.0</td>\n",
       "      <td>3.0</td>\n",
       "      <td>0</td>\n",
       "      <td>1</td>\n",
       "      <td>0</td>\n",
       "      <td>0</td>\n",
       "    </tr>\n",
       "  </tbody>\n",
       "</table>\n",
       "</div>"
      ],
      "text/plain": [
       "       longitude  latitude  housing_median_age  total_rooms  total_bedrooms  \\\n",
       "5241     -118.39     34.12                29.0       6447.0          1012.0   \n",
       "10970    -117.86     33.77                39.0       4159.0           655.0   \n",
       "20351    -119.05     34.21                27.0       4357.0           926.0   \n",
       "6568     -118.15     34.20                52.0       1786.0           306.0   \n",
       "13285    -117.68     34.07                32.0       1775.0           314.0   \n",
       "\n",
       "       population  households  median_income  median_house_value  income_cat  \\\n",
       "5241       2184.0       960.0         8.2816            500001.0         5.0   \n",
       "10970      1669.0       651.0         4.6111            240300.0         4.0   \n",
       "20351      2110.0       876.0         3.0119            218200.0         3.0   \n",
       "6568       1018.0       322.0         4.1518            182100.0         3.0   \n",
       "13285      1067.0       302.0         4.0375            121300.0         3.0   \n",
       "\n",
       "       <1H OCEAN  INLAND  ISLAND  NEAR BAY  \n",
       "5241           1       0       0         0  \n",
       "10970          1       0       0         0  \n",
       "20351          1       0       0         0  \n",
       "6568           0       1       0         0  \n",
       "13285          0       1       0         0  "
      ]
     },
     "execution_count": 45,
     "metadata": {},
     "output_type": "execute_result"
    }
   ],
   "source": [
    "test_set_data = test_set.drop('ocean_proximity',axis = 1)\n",
    "test_prepared = pd.merge(test_set_data, test_set_data_ocean.astype(int), how = 'outer', left_index = True, right_index = True)\n",
    "test_prepared.head()"
   ]
  },
  {
   "cell_type": "code",
   "execution_count": 46,
   "metadata": {},
   "outputs": [
    {
     "name": "stdout",
     "output_type": "stream",
     "text": [
      "<class 'pandas.core.frame.DataFrame'>\n",
      "Int64Index: 4128 entries, 5241 to 2398\n",
      "Data columns (total 14 columns):\n",
      "longitude             4128 non-null float64\n",
      "latitude              4128 non-null float64\n",
      "housing_median_age    4128 non-null float64\n",
      "total_rooms           4128 non-null float64\n",
      "total_bedrooms        4128 non-null float64\n",
      "population            4128 non-null float64\n",
      "households            4128 non-null float64\n",
      "median_income         4128 non-null float64\n",
      "median_house_value    4128 non-null float64\n",
      "income_cat            4128 non-null float64\n",
      "<1H OCEAN             4128 non-null int32\n",
      "INLAND                4128 non-null int32\n",
      "ISLAND                4128 non-null int32\n",
      "NEAR BAY              4128 non-null int32\n",
      "dtypes: float64(10), int32(4)\n",
      "memory usage: 579.2 KB\n"
     ]
    }
   ],
   "source": [
    "test_prepared.info()"
   ]
  },
  {
   "cell_type": "code",
   "execution_count": null,
   "metadata": {},
   "outputs": [],
   "source": [
    "# test_prepared = test_prepared[test_prepared.ISLAND.notna()]"
   ]
  },
  {
   "cell_type": "code",
   "execution_count": 47,
   "metadata": {},
   "outputs": [],
   "source": [
    "test_labels = test_prepared.median_house_value\n",
    "test_prepared.drop('median_house_value', axis=1, inplace = True)"
   ]
  },
  {
   "cell_type": "code",
   "execution_count": 48,
   "metadata": {
    "scrolled": true
   },
   "outputs": [
    {
     "name": "stdout",
     "output_type": "stream",
     "text": [
      "<class 'pandas.core.frame.DataFrame'>\n",
      "Int64Index: 4128 entries, 5241 to 2398\n",
      "Data columns (total 13 columns):\n",
      "longitude             4128 non-null float64\n",
      "latitude              4128 non-null float64\n",
      "housing_median_age    4128 non-null float64\n",
      "total_rooms           4128 non-null float64\n",
      "total_bedrooms        4128 non-null float64\n",
      "population            4128 non-null float64\n",
      "households            4128 non-null float64\n",
      "median_income         4128 non-null float64\n",
      "income_cat            4128 non-null float64\n",
      "<1H OCEAN             4128 non-null int32\n",
      "INLAND                4128 non-null int32\n",
      "ISLAND                4128 non-null int32\n",
      "NEAR BAY              4128 non-null int32\n",
      "dtypes: float64(9), int32(4)\n",
      "memory usage: 547.0 KB\n"
     ]
    }
   ],
   "source": [
    "test_prepared.info()"
   ]
  },
  {
   "cell_type": "markdown",
   "metadata": {},
   "source": [
    "### 머신러닝 진행하기"
   ]
  },
  {
   "cell_type": "code",
   "execution_count": null,
   "metadata": {},
   "outputs": [],
   "source": [
    "housing"
   ]
  },
  {
   "cell_type": "code",
   "execution_count": null,
   "metadata": {},
   "outputs": [],
   "source": [
    "# 학습데이터: housing_train\n",
    "# 학습데이터 레이블 : housing_labels\n",
    "\n",
    "# 테스트 데이터: test_prepared\n",
    "# 테스트 데이터 레이블 : test_labels"
   ]
  },
  {
   "cell_type": "markdown",
   "metadata": {},
   "source": [
    " - linear regression"
   ]
  },
  {
   "cell_type": "code",
   "execution_count": 49,
   "metadata": {},
   "outputs": [],
   "source": [
    "from sklearn.linear_model import LinearRegression"
   ]
  },
  {
   "cell_type": "code",
   "execution_count": 50,
   "metadata": {},
   "outputs": [
    {
     "data": {
      "text/plain": [
       "LinearRegression(copy_X=True, fit_intercept=True, n_jobs=1, normalize=False)"
      ]
     },
     "execution_count": 50,
     "metadata": {},
     "output_type": "execute_result"
    }
   ],
   "source": [
    "lin_reg = LinearRegression()\n",
    "lin_reg.fit(housing_train, housing_labels)"
   ]
  },
  {
   "cell_type": "code",
   "execution_count": 53,
   "metadata": {},
   "outputs": [
    {
     "data": {
      "text/plain": [
       "67235.83732772646"
      ]
     },
     "execution_count": 53,
     "metadata": {},
     "output_type": "execute_result"
    }
   ],
   "source": [
    "# 평가하기  RMSE(mean_square_error)\n",
    "from sklearn.metrics import mean_squared_error\n",
    "housing_predictions = lin_reg.predict(test_prepared)\n",
    "lin_mse = mean_squared_error(test_labels, housing_predictions)\n",
    "lin_rmse = np.sqrt(lin_mse)\n",
    "lin_rmse"
   ]
  },
  {
   "cell_type": "markdown",
   "metadata": {},
   "source": [
    " - Decision Tree Regression"
   ]
  },
  {
   "cell_type": "code",
   "execution_count": 54,
   "metadata": {},
   "outputs": [],
   "source": [
    "from sklearn.tree import DecisionTreeRegressor"
   ]
  },
  {
   "cell_type": "code",
   "execution_count": 55,
   "metadata": {
    "scrolled": true
   },
   "outputs": [
    {
     "data": {
      "text/plain": [
       "DecisionTreeRegressor(criterion='mse', max_depth=None, max_features=None,\n",
       "           max_leaf_nodes=None, min_impurity_decrease=0.0,\n",
       "           min_impurity_split=None, min_samples_leaf=1,\n",
       "           min_samples_split=2, min_weight_fraction_leaf=0.0,\n",
       "           presort=False, random_state=None, splitter='best')"
      ]
     },
     "execution_count": 55,
     "metadata": {},
     "output_type": "execute_result"
    }
   ],
   "source": [
    "tree_reg = DecisionTreeRegressor()\n",
    "tree_reg.fit(housing_train, housing_labels)"
   ]
  },
  {
   "cell_type": "code",
   "execution_count": 56,
   "metadata": {},
   "outputs": [
    {
     "data": {
      "text/plain": [
       "68688.14333479256"
      ]
     },
     "execution_count": 56,
     "metadata": {},
     "output_type": "execute_result"
    }
   ],
   "source": [
    "housing_predictions = tree_reg.predict(test_prepared)\n",
    "tree_mse = mean_squared_error(test_labels, housing_predictions)\n",
    "tree_rmse = np.sqrt(tree_mse)\n",
    "tree_rmse"
   ]
  },
  {
   "cell_type": "markdown",
   "metadata": {},
   "source": [
    "### k-fold cross-validation"
   ]
  },
  {
   "cell_type": "code",
   "execution_count": 57,
   "metadata": {},
   "outputs": [],
   "source": [
    "from sklearn.model_selection import cross_val_score"
   ]
  },
  {
   "cell_type": "code",
   "execution_count": 58,
   "metadata": {},
   "outputs": [],
   "source": [
    "# 결정트리 모델\n",
    "scores = cross_val_score(tree_reg, housing_train, housing_labels, \n",
    "                        scoring = 'neg_mean_squared_error', cv=10)\n",
    "tree_rmse_scores = np.sqrt(-scores)"
   ]
  },
  {
   "cell_type": "code",
   "execution_count": 59,
   "metadata": {},
   "outputs": [],
   "source": [
    "def display_scores(scores):\n",
    "    print('Scores: ', scores)\n",
    "    print('Mean: ', scores.mean())\n",
    "    print('Standard Deviation: ' , scores.std())\n"
   ]
  },
  {
   "cell_type": "code",
   "execution_count": 60,
   "metadata": {
    "scrolled": true
   },
   "outputs": [
    {
     "name": "stdout",
     "output_type": "stream",
     "text": [
      "Scores:  [66859.37487827 64716.03374471 70443.94433303 68949.71757215\n",
      " 68141.72377658 76822.09765734 66751.57455211 71062.37465424\n",
      " 72357.2281527  71489.77811607]\n",
      "Mean:  69759.38474372022\n",
      "Standard Deviation:  3285.667762268645\n"
     ]
    }
   ],
   "source": [
    "display_scores(tree_rmse_scores)"
   ]
  },
  {
   "cell_type": "code",
   "execution_count": 61,
   "metadata": {},
   "outputs": [
    {
     "name": "stdout",
     "output_type": "stream",
     "text": [
      "Scores:  [67621.36459192 67050.2893707  68159.77945126 74185.17069359\n",
      " 68112.25073467 71610.00721757 65235.24278175 68160.85292722\n",
      " 72191.44396288 68163.77349381]\n",
      "Mean:  69049.01752253622\n",
      "Standard Deviation:  2581.3240040196233\n"
     ]
    }
   ],
   "source": [
    "# 선형회귀 모델\n",
    "lin_scores = cross_val_score(lin_reg, housing_train, housing_labels, \n",
    "                        scoring = 'neg_mean_squared_error', cv=10)\n",
    "lin_rmse_scores = np.sqrt(-lin_scores)\n",
    "display_scores(lin_rmse_scores)"
   ]
  },
  {
   "cell_type": "code",
   "execution_count": 62,
   "metadata": {},
   "outputs": [
    {
     "name": "stdout",
     "output_type": "stream",
     "text": [
      "Scores:  [49955.67387639 48402.70964269 51650.34268868 52777.33517792\n",
      " 52355.67229422 55068.78863152 51349.46736568 52276.3185467\n",
      " 54603.4485827  52257.29769738]\n",
      "Mean:  52069.70545038902\n",
      "Standard Deviation:  1862.4002430136568\n"
     ]
    }
   ],
   "source": [
    "# 랜덤포레스트 모델\n",
    "from sklearn.ensemble import RandomForestRegressor\n",
    "\n",
    "#학습\n",
    "forest_reg = RandomForestRegressor()\n",
    "forest_reg.fit(housing_train, housing_labels)\n",
    "\n",
    "#평가\n",
    "forest_scores = cross_val_score(forest_reg, housing_train, housing_labels, \n",
    "                        scoring = 'neg_mean_squared_error', cv=10)\n",
    "forest_rmse_scores = np.sqrt(-forest_scores)\n",
    "\n",
    "display_scores(forest_rmse_scores)"
   ]
  },
  {
   "cell_type": "markdown",
   "metadata": {},
   "source": [
    "### Grid Search"
   ]
  },
  {
   "cell_type": "code",
   "execution_count": 64,
   "metadata": {},
   "outputs": [
    {
     "data": {
      "text/plain": [
       "GridSearchCV(cv=5, error_score='raise',\n",
       "       estimator=RandomForestRegressor(bootstrap=True, criterion='mse', max_depth=None,\n",
       "           max_features='auto', max_leaf_nodes=None,\n",
       "           min_impurity_decrease=0.0, min_impurity_split=None,\n",
       "           min_samples_leaf=1, min_samples_split=2,\n",
       "           min_weight_fraction_leaf=0.0, n_estimators=10, n_jobs=1,\n",
       "           oob_score=False, random_state=42, verbose=0, warm_start=False),\n",
       "       fit_params=None, iid=True, n_jobs=-1,\n",
       "       param_grid=[{'n_estimators': [3, 10, 30], 'max_features': [2, 4, 6, 8]}, {'bootstrap': [False], 'n_estimators': [3, 10], 'max_features': [2, 3, 4]}],\n",
       "       pre_dispatch='2*n_jobs', refit=True, return_train_score=True,\n",
       "       scoring='neg_mean_squared_error', verbose=0)"
      ]
     },
     "execution_count": 64,
     "metadata": {},
     "output_type": "execute_result"
    }
   ],
   "source": [
    "from sklearn.model_selection import GridSearchCV\n",
    "\n",
    "param_grid = [\n",
    "    # 12(=3×4)개의 조합 테스트\n",
    "    {'n_estimators': [3, 10, 30], 'max_features': [2, 4, 6, 8]},\n",
    "    # booststrap False, 6개 조합 테스트\n",
    "    {'bootstrap': [False], 'n_estimators': [3, 10], 'max_features': [2, 3, 4]},\n",
    "  ]\n",
    "\n",
    "# 모델생성 / train-test 데이터 분류\n",
    "forest_reg = RandomForestRegressor(random_state=42)\n",
    "# cv = 5, 하나의 조합당 5번씩 모델 생성 및 테스트 --> (12+6) x 5 번 수행\n",
    "grid_search = GridSearchCV(forest_reg, param_grid, cv=5, scoring='neg_mean_squared_error', \n",
    "                           return_train_score=True, n_jobs=-1)\n",
    "\n",
    "\n",
    "grid_search.fit(housing_train, housing_labels)"
   ]
  },
  {
   "cell_type": "code",
   "execution_count": 66,
   "metadata": {},
   "outputs": [
    {
     "data": {
      "text/plain": [
       "{'max_features': 8, 'n_estimators': 30}"
      ]
     },
     "execution_count": 66,
     "metadata": {},
     "output_type": "execute_result"
    }
   ],
   "source": [
    "# best 조합\n",
    "grid_search.best_params_"
   ]
  },
  {
   "cell_type": "code",
   "execution_count": 68,
   "metadata": {
    "scrolled": true
   },
   "outputs": [
    {
     "data": {
      "text/plain": [
       "RandomForestRegressor(bootstrap=True, criterion='mse', max_depth=None,\n",
       "           max_features=8, max_leaf_nodes=None, min_impurity_decrease=0.0,\n",
       "           min_impurity_split=None, min_samples_leaf=1,\n",
       "           min_samples_split=2, min_weight_fraction_leaf=0.0,\n",
       "           n_estimators=30, n_jobs=1, oob_score=False, random_state=42,\n",
       "           verbose=0, warm_start=False)"
      ]
     },
     "execution_count": 68,
     "metadata": {},
     "output_type": "execute_result"
    }
   ],
   "source": [
    "# best 모델 w/조합\n",
    "grid_search.best_estimator_"
   ]
  },
  {
   "cell_type": "code",
   "execution_count": 73,
   "metadata": {},
   "outputs": [
    {
     "name": "stdout",
     "output_type": "stream",
     "text": [
      "65223.37027630678 {'max_features': 2, 'n_estimators': 3}\n",
      "56252.75476637523 {'max_features': 2, 'n_estimators': 10}\n",
      "54020.0710132297 {'max_features': 2, 'n_estimators': 30}\n",
      "61350.02297938352 {'max_features': 4, 'n_estimators': 3}\n",
      "54393.77190083598 {'max_features': 4, 'n_estimators': 10}\n",
      "52142.85420105759 {'max_features': 4, 'n_estimators': 30}\n",
      "60987.487604309004 {'max_features': 6, 'n_estimators': 3}\n",
      "53437.28739381261 {'max_features': 6, 'n_estimators': 10}\n",
      "51373.4277357738 {'max_features': 6, 'n_estimators': 30}\n",
      "60010.87214342677 {'max_features': 8, 'n_estimators': 3}\n",
      "53292.229502696864 {'max_features': 8, 'n_estimators': 10}\n",
      "51076.46458685008 {'max_features': 8, 'n_estimators': 30}\n",
      "64084.93310941501 {'bootstrap': False, 'max_features': 2, 'n_estimators': 3}\n",
      "55622.75187563427 {'bootstrap': False, 'max_features': 2, 'n_estimators': 10}\n",
      "62545.626857001545 {'bootstrap': False, 'max_features': 3, 'n_estimators': 3}\n",
      "54689.18688435343 {'bootstrap': False, 'max_features': 3, 'n_estimators': 10}\n",
      "60335.95698457063 {'bootstrap': False, 'max_features': 4, 'n_estimators': 3}\n",
      "54052.246243735746 {'bootstrap': False, 'max_features': 4, 'n_estimators': 10}\n"
     ]
    }
   ],
   "source": [
    "# 조합별 점수 확인\n",
    "cvres = grid_search.cv_results_\n",
    "for mean_score, params in zip(cvres['mean_test_score'], cvres['params']):\n",
    "    print(np.sqrt(-mean_score), params)"
   ]
  }
 ],
 "metadata": {
  "kernelspec": {
   "display_name": "Python 3",
   "language": "python",
   "name": "python3"
  },
  "language_info": {
   "codemirror_mode": {
    "name": "ipython",
    "version": 3
   },
   "file_extension": ".py",
   "mimetype": "text/x-python",
   "name": "python",
   "nbconvert_exporter": "python",
   "pygments_lexer": "ipython3",
   "version": "3.6.4"
  }
 },
 "nbformat": 4,
 "nbformat_minor": 2
}
