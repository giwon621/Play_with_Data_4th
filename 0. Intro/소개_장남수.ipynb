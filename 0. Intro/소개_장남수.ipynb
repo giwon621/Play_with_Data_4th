{
 "cells": [
  {
   "cell_type": "markdown",
   "metadata": {},
   "source": [
    "# 장남수"
   ]
  },
  {
   "cell_type": "markdown",
   "metadata": {},
   "source": [
    "# Job\n",
    "- 아모레퍼시픽 근무\n",
    "        - 수요계획팀: 제품별 미래 판매 수량 예측(시계열 데이터 분석/예측) → 생산수량 결정 및 공급계획 수립 \n",
    "        - 전략기획팀: 재고관리 / KPI 관리 / 데이터분석\n",
    "        - 방판 영업\n",
    "     \n",
    " \n",
    "- Play with Data 스터디: 2017.11월 ~ \n",
    " \n",
    " \n",
    "- 데이터공방: 데이터 수집 / 분석 워크샵\n",
    "        - http://blog.naver.com/kiddwannabe "
   ]
  },
  {
   "cell_type": "markdown",
   "metadata": {},
   "source": [
    "# Why?\n",
    "\n",
    "- 수요예측 → SNS 활용경험.  데이터 수집/분석 관심▲  But. 회사에서 활용 X\n",
    "\n",
    "\n",
    "- 실제로 사용하고, 설명하고, 의사결정에 도움이 될 만한 것에 관심\n",
    "     - 회사에 데이터가 충분하지 못함... --> 웹 크롤링 + 비정형 데이터에 관심...\n",
    "  \n",
    "\n",
    "- 맞는 스터디가 없어서 만들었어요. \n",
    "    - 다른 사람들은 어떻게 하는지 궁금해서.... \n",
    "    - 왜 다들 강남에서?? ㅠ --> 종로 / 상수 / 합정\n",
    "    - 전문 개발자분들은... 관심 주제가 달랐어요...\n"
   ]
  },
  {
   "cell_type": "markdown",
   "metadata": {},
   "source": [
    "# Individual\n",
    " - 사무실:  방학역(의정부 근방) 인근\n",
    " - 집 : 마포구청역 인근.  with 아내, 4살 아들"
   ]
  },
  {
   "cell_type": "markdown",
   "metadata": {},
   "source": [
    "# Studied\n",
    " - 산업공학과:  C & JAVA  쪼~끔.  통계 쪼금.... \n",
    " - 패스트캠퍼스에서 텍스트마이닝, 머신러닝 과정 수강. \n",
    " - 이리 저리 기웃거리면서 공부중..."
   ]
  },
  {
   "cell_type": "markdown",
   "metadata": {},
   "source": [
    "# Want\n",
    " - 다양한 분야의 사람들과 소통\n",
    "        \n",
    "        ▶ 다른 분야의 소식 / 내용 / 사례들 들어보기\n",
    "        ▶ (다른 관점에서) 고민해보기\n",
    "    \n",
    " \n",
    " - 머신러닝/딥러닝 에 대해 조금 깊이 있게 알고 싶은 마음\n",
    " \n",
    " - 책을 다 봤다는 성취감은 덤."
   ]
  }
 ],
 "metadata": {
  "kernelspec": {
   "display_name": "Python 3",
   "language": "python",
   "name": "python3"
  },
  "language_info": {
   "codemirror_mode": {
    "name": "ipython",
    "version": 3
   },
   "file_extension": ".py",
   "mimetype": "text/x-python",
   "name": "python",
   "nbconvert_exporter": "python",
   "pygments_lexer": "ipython3",
   "version": "3.6.4"
  }
 },
 "nbformat": 4,
 "nbformat_minor": 2
}
